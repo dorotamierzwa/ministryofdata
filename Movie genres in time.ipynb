{
 "cells": [
  {
   "cell_type": "markdown",
   "metadata": {},
   "source": [
    "### Movie genres analysis\n",
    "\n",
    "Dataset downloaded from: https://www.kaggle.com/jrobischon/wikipedia-movie-plots"
   ]
  },
  {
   "cell_type": "code",
   "execution_count": 1,
   "metadata": {
    "collapsed": true
   },
   "outputs": [],
   "source": [
    "import warnings\n",
    "warnings.filterwarnings(\"ignore\")\n",
    "\n",
    "# nltk\n",
    "from nltk.stem import LancasterStemmer\n",
    "from nltk.corpus import wordnet\n",
    "import nltk\n",
    "\n",
    "# data visualisation\n",
    "import matplotlib.pyplot as plt\n",
    "from matplotlib.ticker import MaxNLocator\n",
    "import pandas as pd\n",
    "import pylab as pl\n",
    "import math\n",
    "import numpy as np\n",
    "%matplotlib inline\n",
    "\n",
    "# data wrangling\n",
    "import re"
   ]
  },
  {
   "cell_type": "code",
   "execution_count": 2,
   "metadata": {
    "collapsed": true
   },
   "outputs": [],
   "source": [
    "df = pd.read_csv('wiki_movie_plots_deduped.csv')"
   ]
  },
  {
   "cell_type": "code",
   "execution_count": 3,
   "metadata": {},
   "outputs": [
    {
     "data": {
      "text/html": [
       "<div>\n",
       "<style>\n",
       "    .dataframe thead tr:only-child th {\n",
       "        text-align: right;\n",
       "    }\n",
       "\n",
       "    .dataframe thead th {\n",
       "        text-align: left;\n",
       "    }\n",
       "\n",
       "    .dataframe tbody tr th {\n",
       "        vertical-align: top;\n",
       "    }\n",
       "</style>\n",
       "<table border=\"1\" class=\"dataframe\">\n",
       "  <thead>\n",
       "    <tr style=\"text-align: right;\">\n",
       "      <th></th>\n",
       "      <th>Release Year</th>\n",
       "      <th>Title</th>\n",
       "      <th>Origin/Ethnicity</th>\n",
       "      <th>Director</th>\n",
       "      <th>Cast</th>\n",
       "      <th>Genre</th>\n",
       "      <th>Wiki Page</th>\n",
       "      <th>Plot</th>\n",
       "    </tr>\n",
       "  </thead>\n",
       "  <tbody>\n",
       "    <tr>\n",
       "      <th>0</th>\n",
       "      <td>1901</td>\n",
       "      <td>Kansas Saloon Smashers</td>\n",
       "      <td>American</td>\n",
       "      <td>Unknown</td>\n",
       "      <td>NaN</td>\n",
       "      <td>unknown</td>\n",
       "      <td>https://en.wikipedia.org/wiki/Kansas_Saloon_Sm...</td>\n",
       "      <td>A bartender is working at a saloon, serving dr...</td>\n",
       "    </tr>\n",
       "    <tr>\n",
       "      <th>1</th>\n",
       "      <td>1901</td>\n",
       "      <td>Love by the Light of the Moon</td>\n",
       "      <td>American</td>\n",
       "      <td>Unknown</td>\n",
       "      <td>NaN</td>\n",
       "      <td>unknown</td>\n",
       "      <td>https://en.wikipedia.org/wiki/Love_by_the_Ligh...</td>\n",
       "      <td>The moon, painted with a smiling face hangs ov...</td>\n",
       "    </tr>\n",
       "    <tr>\n",
       "      <th>2</th>\n",
       "      <td>1901</td>\n",
       "      <td>The Martyred Presidents</td>\n",
       "      <td>American</td>\n",
       "      <td>Unknown</td>\n",
       "      <td>NaN</td>\n",
       "      <td>unknown</td>\n",
       "      <td>https://en.wikipedia.org/wiki/The_Martyred_Pre...</td>\n",
       "      <td>The film, just over a minute long, is composed...</td>\n",
       "    </tr>\n",
       "    <tr>\n",
       "      <th>3</th>\n",
       "      <td>1901</td>\n",
       "      <td>Terrible Teddy, the Grizzly King</td>\n",
       "      <td>American</td>\n",
       "      <td>Unknown</td>\n",
       "      <td>NaN</td>\n",
       "      <td>unknown</td>\n",
       "      <td>https://en.wikipedia.org/wiki/Terrible_Teddy,_...</td>\n",
       "      <td>Lasting just 61 seconds and consisting of two ...</td>\n",
       "    </tr>\n",
       "    <tr>\n",
       "      <th>4</th>\n",
       "      <td>1902</td>\n",
       "      <td>Jack and the Beanstalk</td>\n",
       "      <td>American</td>\n",
       "      <td>George S. Fleming, Edwin S. Porter</td>\n",
       "      <td>NaN</td>\n",
       "      <td>unknown</td>\n",
       "      <td>https://en.wikipedia.org/wiki/Jack_and_the_Bea...</td>\n",
       "      <td>The earliest known adaptation of the classic f...</td>\n",
       "    </tr>\n",
       "    <tr>\n",
       "      <th>5</th>\n",
       "      <td>1903</td>\n",
       "      <td>Alice in Wonderland</td>\n",
       "      <td>American</td>\n",
       "      <td>Cecil Hepworth</td>\n",
       "      <td>May Clark</td>\n",
       "      <td>unknown</td>\n",
       "      <td>https://en.wikipedia.org/wiki/Alice_in_Wonderl...</td>\n",
       "      <td>Alice follows a large white rabbit down a \"Rab...</td>\n",
       "    </tr>\n",
       "    <tr>\n",
       "      <th>6</th>\n",
       "      <td>1903</td>\n",
       "      <td>The Great Train Robbery</td>\n",
       "      <td>American</td>\n",
       "      <td>Edwin S. Porter</td>\n",
       "      <td>NaN</td>\n",
       "      <td>western</td>\n",
       "      <td>https://en.wikipedia.org/wiki/The_Great_Train_...</td>\n",
       "      <td>The film opens with two bandits breaking into ...</td>\n",
       "    </tr>\n",
       "    <tr>\n",
       "      <th>7</th>\n",
       "      <td>1904</td>\n",
       "      <td>The Suburbanite</td>\n",
       "      <td>American</td>\n",
       "      <td>Wallace McCutcheon</td>\n",
       "      <td>NaN</td>\n",
       "      <td>comedy</td>\n",
       "      <td>https://en.wikipedia.org/wiki/The_Suburbanite</td>\n",
       "      <td>The film is about a family who move to the sub...</td>\n",
       "    </tr>\n",
       "    <tr>\n",
       "      <th>8</th>\n",
       "      <td>1905</td>\n",
       "      <td>The Little Train Robbery</td>\n",
       "      <td>American</td>\n",
       "      <td>Edwin Stanton Porter</td>\n",
       "      <td>NaN</td>\n",
       "      <td>unknown</td>\n",
       "      <td>https://en.wikipedia.org/wiki/The_Little_Train...</td>\n",
       "      <td>The opening scene shows the interior of the ro...</td>\n",
       "    </tr>\n",
       "    <tr>\n",
       "      <th>9</th>\n",
       "      <td>1905</td>\n",
       "      <td>The Night Before Christmas</td>\n",
       "      <td>American</td>\n",
       "      <td>Edwin Stanton Porter</td>\n",
       "      <td>NaN</td>\n",
       "      <td>unknown</td>\n",
       "      <td>https://en.wikipedia.org/wiki/The_Night_Before...</td>\n",
       "      <td>Scenes are introduced using lines of the poem....</td>\n",
       "    </tr>\n",
       "  </tbody>\n",
       "</table>\n",
       "</div>"
      ],
      "text/plain": [
       "   Release Year                             Title Origin/Ethnicity  \\\n",
       "0          1901            Kansas Saloon Smashers         American   \n",
       "1          1901     Love by the Light of the Moon         American   \n",
       "2          1901           The Martyred Presidents         American   \n",
       "3          1901  Terrible Teddy, the Grizzly King         American   \n",
       "4          1902            Jack and the Beanstalk         American   \n",
       "5          1903               Alice in Wonderland         American   \n",
       "6          1903           The Great Train Robbery         American   \n",
       "7          1904                   The Suburbanite         American   \n",
       "8          1905          The Little Train Robbery         American   \n",
       "9          1905        The Night Before Christmas         American   \n",
       "\n",
       "                             Director       Cast    Genre  \\\n",
       "0                             Unknown        NaN  unknown   \n",
       "1                             Unknown        NaN  unknown   \n",
       "2                             Unknown        NaN  unknown   \n",
       "3                             Unknown        NaN  unknown   \n",
       "4  George S. Fleming, Edwin S. Porter        NaN  unknown   \n",
       "5                      Cecil Hepworth  May Clark  unknown   \n",
       "6                     Edwin S. Porter        NaN  western   \n",
       "7                  Wallace McCutcheon        NaN   comedy   \n",
       "8                Edwin Stanton Porter        NaN  unknown   \n",
       "9                Edwin Stanton Porter        NaN  unknown   \n",
       "\n",
       "                                           Wiki Page  \\\n",
       "0  https://en.wikipedia.org/wiki/Kansas_Saloon_Sm...   \n",
       "1  https://en.wikipedia.org/wiki/Love_by_the_Ligh...   \n",
       "2  https://en.wikipedia.org/wiki/The_Martyred_Pre...   \n",
       "3  https://en.wikipedia.org/wiki/Terrible_Teddy,_...   \n",
       "4  https://en.wikipedia.org/wiki/Jack_and_the_Bea...   \n",
       "5  https://en.wikipedia.org/wiki/Alice_in_Wonderl...   \n",
       "6  https://en.wikipedia.org/wiki/The_Great_Train_...   \n",
       "7      https://en.wikipedia.org/wiki/The_Suburbanite   \n",
       "8  https://en.wikipedia.org/wiki/The_Little_Train...   \n",
       "9  https://en.wikipedia.org/wiki/The_Night_Before...   \n",
       "\n",
       "                                                Plot  \n",
       "0  A bartender is working at a saloon, serving dr...  \n",
       "1  The moon, painted with a smiling face hangs ov...  \n",
       "2  The film, just over a minute long, is composed...  \n",
       "3  Lasting just 61 seconds and consisting of two ...  \n",
       "4  The earliest known adaptation of the classic f...  \n",
       "5  Alice follows a large white rabbit down a \"Rab...  \n",
       "6  The film opens with two bandits breaking into ...  \n",
       "7  The film is about a family who move to the sub...  \n",
       "8  The opening scene shows the interior of the ro...  \n",
       "9  Scenes are introduced using lines of the poem....  "
      ]
     },
     "execution_count": 3,
     "metadata": {},
     "output_type": "execute_result"
    }
   ],
   "source": [
    "df.head(10)"
   ]
  },
  {
   "cell_type": "code",
   "execution_count": 4,
   "metadata": {},
   "outputs": [
    {
     "name": "stdout",
     "output_type": "stream",
     "text": [
      "<class 'pandas.core.frame.DataFrame'>\n",
      "RangeIndex: 34886 entries, 0 to 34885\n",
      "Data columns (total 8 columns):\n",
      "Release Year        34886 non-null int64\n",
      "Title               34886 non-null object\n",
      "Origin/Ethnicity    34886 non-null object\n",
      "Director            34886 non-null object\n",
      "Cast                33464 non-null object\n",
      "Genre               34886 non-null object\n",
      "Wiki Page           34886 non-null object\n",
      "Plot                34886 non-null object\n",
      "dtypes: int64(1), object(7)\n",
      "memory usage: 2.1+ MB\n"
     ]
    }
   ],
   "source": [
    "df.info()"
   ]
  },
  {
   "cell_type": "markdown",
   "metadata": {},
   "source": [
    "# Cleaning \"Genre\" column"
   ]
  },
  {
   "cell_type": "code",
   "execution_count": 5,
   "metadata": {},
   "outputs": [
    {
     "data": {
      "text/plain": [
       "6083"
      ]
     },
     "execution_count": 5,
     "metadata": {},
     "output_type": "execute_result"
    }
   ],
   "source": [
    "sum(df['Genre'] == 'unknown')"
   ]
  },
  {
   "cell_type": "code",
   "execution_count": 6,
   "metadata": {
    "collapsed": true
   },
   "outputs": [],
   "source": [
    "# first remove missing values\n",
    "df = df[(df['Genre'] != 'unknown') & (df['Genre'] != '')]"
   ]
  },
  {
   "cell_type": "code",
   "execution_count": 7,
   "metadata": {},
   "outputs": [
    {
     "data": {
      "text/plain": [
       "2264"
      ]
     },
     "execution_count": 7,
     "metadata": {},
     "output_type": "execute_result"
    }
   ],
   "source": [
    "# How many unique genre values there are in the dataset?\n",
    "df['Genre'].nunique()"
   ]
  },
  {
   "cell_type": "code",
   "execution_count": 8,
   "metadata": {},
   "outputs": [
    {
     "data": {
      "text/plain": [
       "drama                                                       5964\n",
       "comedy                                                      4379\n",
       "horror                                                      1167\n",
       "action                                                      1098\n",
       "thriller                                                     966\n",
       "romance                                                      923\n",
       "western                                                      865\n",
       "crime                                                        568\n",
       "adventure                                                    526\n",
       "musical                                                      467\n",
       "crime drama                                                  464\n",
       "romantic comedy                                              461\n",
       "science fiction                                              418\n",
       "film noir                                                    345\n",
       "mystery                                                      310\n",
       "war                                                          273\n",
       "animation                                                    264\n",
       "comedy, drama                                                236\n",
       "sci-fi                                                       221\n",
       "family                                                       217\n",
       "fantasy                                                      204\n",
       "animated                                                     195\n",
       "musical comedy                                               154\n",
       "comedy-drama                                                 137\n",
       "biography                                                    136\n",
       "anime                                                        112\n",
       "suspense                                                     104\n",
       "comedy drama                                                 103\n",
       "romantic drama                                               103\n",
       "animated short                                                91\n",
       "                                                            ... \n",
       "gangster thriller                                              1\n",
       "war, romance                                                   1\n",
       "romance, action, drama                                         1\n",
       "tapas paul, debashree roy                                      1\n",
       "martial arts / action / romantic comedy                        1\n",
       "action based on radio serial                                   1\n",
       "science fiction/action                                         1\n",
       "drama / romance / sci-fi                                       1\n",
       "action, thriller, comedy                                       1\n",
       "comedy/social                                                  1\n",
       "biography / drama / romance                                    1\n",
       "drama / action / romance                                       1\n",
       "military romance                                               1\n",
       "thriller, mystery, romance                                     1\n",
       "drama, anime                                                   1\n",
       "animation drama                                                1\n",
       "spy comedy thriller                                            1\n",
       "animation / children                                           1\n",
       "biogtaphy, crime, drama                                        1\n",
       "thriller, mystery                                              1\n",
       "romanctic comedy                                               1\n",
       "drama adapted from wajdi mouawad's play of the same name       1\n",
       "romantic muslim social                                         1\n",
       "action, mystery                                                1\n",
       "fantasy, action                                                1\n",
       "drama loosely based on oliver twist                            1\n",
       "thriller, action, romance, musical                             1\n",
       "adventure / family / drama                                     1\n",
       "romance, wuxia                                                 1\n",
       "thriller action romance                                        1\n",
       "Name: Genre, Length: 2264, dtype: int64"
      ]
     },
     "execution_count": 8,
     "metadata": {},
     "output_type": "execute_result"
    }
   ],
   "source": [
    "df['Genre'].value_counts()"
   ]
  },
  {
   "cell_type": "code",
   "execution_count": 9,
   "metadata": {},
   "outputs": [
    {
     "data": {
      "text/plain": [
       "array(['black comedy/thriller', 'action - comedy', 'drama/social',\n",
       "       'social/action', 'fantasy/children', 'mystery/thriller/drama',\n",
       "       'comedy/drama/romance', 'social satire', 'political satire',\n",
       "       'found footage / horror', 'erotica/thriller',\n",
       "       'silent hills studio', 'yash raj films',\n",
       "       'political crime thriller', 'panorama studios', 'sex/drama',\n",
       "       'bbc films', 'movies by the mob & knkspl', 'action/crime ttriller',\n",
       "       'colour yellow productions & eros international',\n",
       "       'viacom 18 motion pictures',\n",
       "       'bholenath movies & cinekorn entertainment', 'biographic',\n",
       "       'dharma productions, red chillies entertainment & b.r films',\n",
       "       'social/comedy', 'drama/disaster', 'k9 films',\n",
       "       'horror / thriller / drama', 'drama / documentary',\n",
       "       'fantasy / horror', 'satirical comedy', 'romance / thriller',\n",
       "       'romantic action', 'love, drama', 'romance-action',\n",
       "       'romance/ drama', 'period romance', 'horror / found footage',\n",
       "       'action; drama', 'action, thriller, romance, drama, comedy',\n",
       "       'action, romance, period', 'family, drama, thriller',\n",
       "       'sports, drama', 'fantasy / comedy', 'comedy - thriller',\n",
       "       'mystery thriller', 'satire - thriller', 'satire drama',\n",
       "       'thriller drama', 'action - war', 'romance, musical',\n",
       "       'family (artistic)', 'horror, family', 'action, thriller, comedy',\n",
       "       'experimental film, art film', 'suspense, comedy',\n",
       "       'family, thriller', 'action, musical', 'youth', 'family, romance',\n",
       "       'patriotic', 'campus, romance', 'youth, romance', 'drama, erotic',\n",
       "       'epic, patriotism', 'satire, drama', 'patriotism, drama',\n",
       "       'comedy, fantasy, drama', 'historical, thriller, drama',\n",
       "       'fantasy, children', 'epic, biographical, romance, drama',\n",
       "       'historical, biographical', 'black comedy, satire',\n",
       "       'action, romance, thriller', \"family, children's film\",\n",
       "       'period, patriotic, drama', 'art', 'period, revenge',\n",
       "       'revenge, thriller', 'action, road movie', 'drama, road movie',\n",
       "       'romantic drama, black comedy', 'stoner film', 'romance, music',\n",
       "       'drama, environmental film, human rights', 'investigative',\n",
       "       'romance, comedy, thriller', 'drama, black humour',\n",
       "       'period, drama', 'drama, period', 'psychological thriller film',\n",
       "       'road movie', '[140]', '[144]', 'psychological thriller,',\n",
       "       'comedey', 'psycho thriller', 'action,thriller',\n",
       "       'medical thriller', 'period thriller', 'heist',\n",
       "       'thriller travelogue', 'comedy romantic thriller',\n",
       "       'social drama, comedy', 'romance, thriller, drama',\n",
       "       'biju menon, krishnashankar, samskruti shenoy', 'campus drama',\n",
       "       'campus thriller', 'family, drama, comedy', 'fantasy,drama,comedy',\n",
       "       'politics', \"yogesh dattatraya gosavi's directorial debut. [9]\",\n",
       "       'family / drama', 'drama, adventure, thriller',\n",
       "       'romantic, comedy, suspense', 'vigilante, action, thriller',\n",
       "       'drama, satire', 'comedy, love story, drama',\n",
       "       'drama, action, comedy', 'romcom, action, thriller',\n",
       "       'dark comedy, romance', 'thriller, comedy, mystery',\n",
       "       'sci-fi, romance, thriller', 'romance film, drama',\n",
       "       'detective, thriller', 'critically acclaimed',\n",
       "       'romance/action/cultural', 'action romantic', 'superhero/comedy',\n",
       "       'crime, political/thriller', 'comedy/familya', 'romanctic comedy',\n",
       "       'mystery adventure', 'perodic', 'romantic comedy ',\n",
       "       'gangster thriller ', 'action thriller ', 'comedy drama ',\n",
       "       'famil drama ', 'action - superhero ', 'romantic thriller ',\n",
       "       'action, masala', 'mob, neo-noir', 'period piece, romantic drama',\n",
       "       'action-masala', 'action-drama film', 'action-masala film',\n",
       "       'action—masala', 'period piece', 'gangster-thriller',\n",
       "       'action (film genre)', 'drama-thriller', 'comedy-thriller',\n",
       "       'action masala', 'fantasy comedy', 'fantasy-period',\n",
       "       'historical comedy/satire', 'animation/ period', 'heist-comedy',\n",
       "       'mob', 'sci-fi romantic thriller', 'social thriller',\n",
       "       'comedy masala', 'science-fiction comedy', 'epic / history',\n",
       "       'fantasy horror', 'romanctic drama', 'supernatural',\n",
       "       'horror masala', 'fantasy adventure comedy', 'folklore',\n",
       "       'historical, comedy', 'famil drama', 'remake', 'cowboy',\n",
       "       'chakravarthy musical hit', 'super hit movie',\n",
       "       'romantic musical film', 'biographical fim', 'mythological',\n",
       "       'fantasy and comedy', 'fiction', 'stylish', 'patriotism',\n",
       "       \"ram, ileana d'cruz\",\n",
       "       'raghava lawrence, prabhu deva, raja, charmme, kamalini mukherjee',\n",
       "       'siddharth narayan, charmme, sada', 'ravi teja, jyothika',\n",
       "       'kalyan ram', 'arjun, jagapati babu', 'd. ramanaidu, kalyani',\n",
       "       'rajasekhar, brahmanandam, kondavalasa lakshmana rao',\n",
       "       'allari naresh, madhu sharma, shashank, bramhanandam, ravi babu',\n",
       "       'prabhas, trisha krishnan, charmme',\n",
       "       'srikanth, rajendra prasad, sindhu tolani',\n",
       "       \"mahesh babu, ileana d'cruz, prakash raj\",\n",
       "       'pawan kalyan, reema sen, meera chopra, mukesh rishi',\n",
       "       'priyadarshini ram, viswendar reddy, radhika joshi',\n",
       "       'allari naresh', 'sumanth, kamalinee mukherjee'], dtype=object)"
      ]
     },
     "execution_count": 9,
     "metadata": {},
     "output_type": "execute_result"
    }
   ],
   "source": [
    "df['Genre'].unique()[1800:2000]"
   ]
  },
  {
   "cell_type": "code",
   "execution_count": 10,
   "metadata": {},
   "outputs": [
    {
     "data": {
      "text/plain": [
       "1550"
      ]
     },
     "execution_count": 10,
     "metadata": {},
     "output_type": "execute_result"
    }
   ],
   "source": [
    "# How many genre values have less than 10 occurencies?\n",
    "sum(df['Genre'].value_counts() == 1)"
   ]
  },
  {
   "cell_type": "markdown",
   "metadata": {},
   "source": [
    "We have 1555 genres, that appear just one time in the dataframe. Based on results of `value_counts()` function, most of them could be grouped together, but because the values are free text, they are very incoherent. We need to apply some data cleaning."
   ]
  },
  {
   "cell_type": "markdown",
   "metadata": {},
   "source": [
    "### NLTK approach\n",
    "\n",
    "My first thought was to implement some more automatic approach using nltk library. \n",
    "\n",
    "Steps: \n",
    "* First I extract the group, where more than one word describes genre and keep only nouns. My assumption is that for e.g. `short action` or `historical romance` the adjective only adds the context, while the noun is the major genre for the movie. I remove `short` and `historical` from the description.\n",
    "* Next, if there are more nouns in genre description left, e.g. `comedy drama` I take only the first one. This is a simplification I'm choosing to make, with the assumption that first genre is most fitted.\n",
    "* Lastly, having a single word in each genre row, I group them by their stemming. E.g. I will be able to match `animated` and `animation` or `romance` and `romantic`.\n",
    "\n"
   ]
  },
  {
   "cell_type": "code",
   "execution_count": 11,
   "metadata": {
    "collapsed": true
   },
   "outputs": [],
   "source": [
    "lancaster = LancasterStemmer()"
   ]
  },
  {
   "cell_type": "code",
   "execution_count": 12,
   "metadata": {},
   "outputs": [
    {
     "name": "stdout",
     "output_type": "stream",
     "text": [
      "rom\n"
     ]
    }
   ],
   "source": [
    "print(lancaster.stem(\"romantic\"))"
   ]
  },
  {
   "cell_type": "code",
   "execution_count": 13,
   "metadata": {},
   "outputs": [
    {
     "name": "stdout",
     "output_type": "stream",
     "text": [
      "rom\n"
     ]
    }
   ],
   "source": [
    "print(lancaster.stem(\"romance\"))"
   ]
  },
  {
   "cell_type": "code",
   "execution_count": 14,
   "metadata": {
    "collapsed": true
   },
   "outputs": [],
   "source": [
    "# split genre description containing more than 1 word into a list\n",
    "df['nltk_cleaned'] =  df['Genre'].apply(lambda x: re.split(' |,|-|/', x))"
   ]
  },
  {
   "cell_type": "code",
   "execution_count": 15,
   "metadata": {},
   "outputs": [
    {
     "data": {
      "text/html": [
       "<div>\n",
       "<style>\n",
       "    .dataframe thead tr:only-child th {\n",
       "        text-align: right;\n",
       "    }\n",
       "\n",
       "    .dataframe thead th {\n",
       "        text-align: left;\n",
       "    }\n",
       "\n",
       "    .dataframe tbody tr th {\n",
       "        vertical-align: top;\n",
       "    }\n",
       "</style>\n",
       "<table border=\"1\" class=\"dataframe\">\n",
       "  <thead>\n",
       "    <tr style=\"text-align: right;\">\n",
       "      <th></th>\n",
       "      <th>Release Year</th>\n",
       "      <th>Title</th>\n",
       "      <th>Origin/Ethnicity</th>\n",
       "      <th>Director</th>\n",
       "      <th>Cast</th>\n",
       "      <th>Genre</th>\n",
       "      <th>Wiki Page</th>\n",
       "      <th>Plot</th>\n",
       "      <th>nltk_cleaned</th>\n",
       "    </tr>\n",
       "  </thead>\n",
       "  <tbody>\n",
       "    <tr>\n",
       "      <th>6</th>\n",
       "      <td>1903</td>\n",
       "      <td>The Great Train Robbery</td>\n",
       "      <td>American</td>\n",
       "      <td>Edwin S. Porter</td>\n",
       "      <td>NaN</td>\n",
       "      <td>western</td>\n",
       "      <td>https://en.wikipedia.org/wiki/The_Great_Train_...</td>\n",
       "      <td>The film opens with two bandits breaking into ...</td>\n",
       "      <td>[western]</td>\n",
       "    </tr>\n",
       "    <tr>\n",
       "      <th>7</th>\n",
       "      <td>1904</td>\n",
       "      <td>The Suburbanite</td>\n",
       "      <td>American</td>\n",
       "      <td>Wallace McCutcheon</td>\n",
       "      <td>NaN</td>\n",
       "      <td>comedy</td>\n",
       "      <td>https://en.wikipedia.org/wiki/The_Suburbanite</td>\n",
       "      <td>The film is about a family who move to the sub...</td>\n",
       "      <td>[comedy]</td>\n",
       "    </tr>\n",
       "    <tr>\n",
       "      <th>10</th>\n",
       "      <td>1906</td>\n",
       "      <td>Dream of a Rarebit Fiend</td>\n",
       "      <td>American</td>\n",
       "      <td>Wallace McCutcheon and Edwin S. Porter</td>\n",
       "      <td>NaN</td>\n",
       "      <td>short</td>\n",
       "      <td>https://en.wikipedia.org/wiki/Dream_of_a_Rareb...</td>\n",
       "      <td>The Rarebit Fiend gorges on Welsh rarebit at a...</td>\n",
       "      <td>[short]</td>\n",
       "    </tr>\n",
       "    <tr>\n",
       "      <th>11</th>\n",
       "      <td>1906</td>\n",
       "      <td>From Leadville to Aspen: A Hold-Up in the Rockies</td>\n",
       "      <td>American</td>\n",
       "      <td>Francis J. Marion and Wallace McCutcheon</td>\n",
       "      <td>NaN</td>\n",
       "      <td>short action/crime western</td>\n",
       "      <td>https://en.wikipedia.org/wiki/From_Leadville_t...</td>\n",
       "      <td>The film features a train traveling through th...</td>\n",
       "      <td>[short, action, crime, western]</td>\n",
       "    </tr>\n",
       "    <tr>\n",
       "      <th>12</th>\n",
       "      <td>1906</td>\n",
       "      <td>Kathleen Mavourneen</td>\n",
       "      <td>American</td>\n",
       "      <td>Edwin S. Porter</td>\n",
       "      <td>NaN</td>\n",
       "      <td>short film</td>\n",
       "      <td>https://en.wikipedia.org/wiki/Kathleen_Mavourn...</td>\n",
       "      <td>Irish villager Kathleen is a tenant of Captain...</td>\n",
       "      <td>[short, film]</td>\n",
       "    </tr>\n",
       "  </tbody>\n",
       "</table>\n",
       "</div>"
      ],
      "text/plain": [
       "    Release Year                                              Title  \\\n",
       "6           1903                            The Great Train Robbery   \n",
       "7           1904                                    The Suburbanite   \n",
       "10          1906                           Dream of a Rarebit Fiend   \n",
       "11          1906  From Leadville to Aspen: A Hold-Up in the Rockies   \n",
       "12          1906                                Kathleen Mavourneen   \n",
       "\n",
       "   Origin/Ethnicity                                  Director Cast  \\\n",
       "6          American                           Edwin S. Porter  NaN   \n",
       "7          American                        Wallace McCutcheon  NaN   \n",
       "10         American    Wallace McCutcheon and Edwin S. Porter  NaN   \n",
       "11         American  Francis J. Marion and Wallace McCutcheon  NaN   \n",
       "12         American                           Edwin S. Porter  NaN   \n",
       "\n",
       "                         Genre  \\\n",
       "6                      western   \n",
       "7                       comedy   \n",
       "10                       short   \n",
       "11  short action/crime western   \n",
       "12                  short film   \n",
       "\n",
       "                                            Wiki Page  \\\n",
       "6   https://en.wikipedia.org/wiki/The_Great_Train_...   \n",
       "7       https://en.wikipedia.org/wiki/The_Suburbanite   \n",
       "10  https://en.wikipedia.org/wiki/Dream_of_a_Rareb...   \n",
       "11  https://en.wikipedia.org/wiki/From_Leadville_t...   \n",
       "12  https://en.wikipedia.org/wiki/Kathleen_Mavourn...   \n",
       "\n",
       "                                                 Plot  \\\n",
       "6   The film opens with two bandits breaking into ...   \n",
       "7   The film is about a family who move to the sub...   \n",
       "10  The Rarebit Fiend gorges on Welsh rarebit at a...   \n",
       "11  The film features a train traveling through th...   \n",
       "12  Irish villager Kathleen is a tenant of Captain...   \n",
       "\n",
       "                       nltk_cleaned  \n",
       "6                         [western]  \n",
       "7                          [comedy]  \n",
       "10                          [short]  \n",
       "11  [short, action, crime, western]  \n",
       "12                    [short, film]  "
      ]
     },
     "execution_count": 15,
     "metadata": {},
     "output_type": "execute_result"
    }
   ],
   "source": [
    "df.head()"
   ]
  },
  {
   "cell_type": "code",
   "execution_count": 16,
   "metadata": {
    "collapsed": true
   },
   "outputs": [],
   "source": [
    "# change to array to speed up the transformations\n",
    "array = np.array(df[['Release Year', 'nltk_cleaned']])"
   ]
  },
  {
   "cell_type": "code",
   "execution_count": 17,
   "metadata": {},
   "outputs": [
    {
     "data": {
      "text/plain": [
       "(28803, 2)"
      ]
     },
     "execution_count": 17,
     "metadata": {},
     "output_type": "execute_result"
    }
   ],
   "source": [
    "array.shape"
   ]
  },
  {
   "cell_type": "code",
   "execution_count": 18,
   "metadata": {},
   "outputs": [
    {
     "data": {
      "text/plain": [
       "array([1903, list(['western'])], dtype=object)"
      ]
     },
     "execution_count": 18,
     "metadata": {},
     "output_type": "execute_result"
    }
   ],
   "source": [
    "array[0]"
   ]
  },
  {
   "cell_type": "code",
   "execution_count": 19,
   "metadata": {
    "collapsed": true
   },
   "outputs": [],
   "source": [
    "# first step, make sure genre is only one noun\n",
    "for i in range(len(array)):\n",
    "    if len(array[i][1]) > 1:\n",
    "        for element in array[i][1]:\n",
    "            try:\n",
    "                if nltk.pos_tag([element])[0][1] != 'NN':\n",
    "                    array[i][1].remove(element)\n",
    "            except IndexError:\n",
    "                continue\n",
    "    array[i][1] = array[i][1][0]"
   ]
  },
  {
   "cell_type": "code",
   "execution_count": 20,
   "metadata": {},
   "outputs": [
    {
     "data": {
      "text/plain": [
       "array([[1903, 'western'],\n",
       "       [1904, 'comedy'],\n",
       "       [1906, 'short'],\n",
       "       [1906, 'action'],\n",
       "       [1906, 'film'],\n",
       "       [1907, 'biographical'],\n",
       "       [1907, 'comedy'],\n",
       "       [1907, 'comedy'],\n",
       "       [1908, 'drama'],\n",
       "       [1908, 'drama'],\n",
       "       [1908, 'comedy'],\n",
       "       [1908, 'adventure'],\n",
       "       [1908, 'drama'],\n",
       "       [1908, 'western'],\n",
       "       [1909, 'drama'],\n",
       "       [1909, 'drama'],\n",
       "       [1909, 'drama'],\n",
       "       [1910, 'drama'],\n",
       "       [1910, 'comedy'],\n",
       "       [1910, 'drama']], dtype=object)"
      ]
     },
     "execution_count": 20,
     "metadata": {},
     "output_type": "execute_result"
    }
   ],
   "source": [
    "array[:20]"
   ]
  },
  {
   "cell_type": "code",
   "execution_count": 21,
   "metadata": {
    "collapsed": true
   },
   "outputs": [],
   "source": [
    "df2 = pd.DataFrame(array)"
   ]
  },
  {
   "cell_type": "code",
   "execution_count": 22,
   "metadata": {
    "collapsed": true
   },
   "outputs": [],
   "source": [
    "df2['stem'] = df2[1].apply(lambda x: lancaster.stem(x))"
   ]
  },
  {
   "cell_type": "code",
   "execution_count": 23,
   "metadata": {},
   "outputs": [
    {
     "data": {
      "text/html": [
       "<div>\n",
       "<style>\n",
       "    .dataframe thead tr:only-child th {\n",
       "        text-align: right;\n",
       "    }\n",
       "\n",
       "    .dataframe thead th {\n",
       "        text-align: left;\n",
       "    }\n",
       "\n",
       "    .dataframe tbody tr th {\n",
       "        vertical-align: top;\n",
       "    }\n",
       "</style>\n",
       "<table border=\"1\" class=\"dataframe\">\n",
       "  <thead>\n",
       "    <tr style=\"text-align: right;\">\n",
       "      <th></th>\n",
       "      <th>0</th>\n",
       "      <th>1</th>\n",
       "      <th>stem</th>\n",
       "    </tr>\n",
       "  </thead>\n",
       "  <tbody>\n",
       "    <tr>\n",
       "      <th>0</th>\n",
       "      <td>1903</td>\n",
       "      <td>western</td>\n",
       "      <td>western</td>\n",
       "    </tr>\n",
       "    <tr>\n",
       "      <th>1</th>\n",
       "      <td>1904</td>\n",
       "      <td>comedy</td>\n",
       "      <td>comedy</td>\n",
       "    </tr>\n",
       "    <tr>\n",
       "      <th>2</th>\n",
       "      <td>1906</td>\n",
       "      <td>short</td>\n",
       "      <td>short</td>\n",
       "    </tr>\n",
       "    <tr>\n",
       "      <th>3</th>\n",
       "      <td>1906</td>\n",
       "      <td>action</td>\n",
       "      <td>act</td>\n",
       "    </tr>\n",
       "    <tr>\n",
       "      <th>4</th>\n",
       "      <td>1906</td>\n",
       "      <td>film</td>\n",
       "      <td>film</td>\n",
       "    </tr>\n",
       "    <tr>\n",
       "      <th>5</th>\n",
       "      <td>1907</td>\n",
       "      <td>biographical</td>\n",
       "      <td>biograph</td>\n",
       "    </tr>\n",
       "    <tr>\n",
       "      <th>6</th>\n",
       "      <td>1907</td>\n",
       "      <td>comedy</td>\n",
       "      <td>comedy</td>\n",
       "    </tr>\n",
       "    <tr>\n",
       "      <th>7</th>\n",
       "      <td>1907</td>\n",
       "      <td>comedy</td>\n",
       "      <td>comedy</td>\n",
       "    </tr>\n",
       "    <tr>\n",
       "      <th>8</th>\n",
       "      <td>1908</td>\n",
       "      <td>drama</td>\n",
       "      <td>dram</td>\n",
       "    </tr>\n",
       "    <tr>\n",
       "      <th>9</th>\n",
       "      <td>1908</td>\n",
       "      <td>drama</td>\n",
       "      <td>dram</td>\n",
       "    </tr>\n",
       "  </tbody>\n",
       "</table>\n",
       "</div>"
      ],
      "text/plain": [
       "      0             1      stem\n",
       "0  1903       western   western\n",
       "1  1904        comedy    comedy\n",
       "2  1906         short     short\n",
       "3  1906        action       act\n",
       "4  1906          film      film\n",
       "5  1907  biographical  biograph\n",
       "6  1907        comedy    comedy\n",
       "7  1907        comedy    comedy\n",
       "8  1908         drama      dram\n",
       "9  1908         drama      dram"
      ]
     },
     "execution_count": 23,
     "metadata": {},
     "output_type": "execute_result"
    }
   ],
   "source": [
    "df2.head(10)"
   ]
  },
  {
   "cell_type": "code",
   "execution_count": 24,
   "metadata": {},
   "outputs": [
    {
     "data": {
      "text/plain": [
       "299"
      ]
     },
     "execution_count": 24,
     "metadata": {},
     "output_type": "execute_result"
    }
   ],
   "source": [
    "df2['stem'].nunique()"
   ]
  },
  {
   "cell_type": "code",
   "execution_count": 25,
   "metadata": {},
   "outputs": [
    {
     "data": {
      "text/plain": [
       "dram            7211\n",
       "comedy          6400\n",
       "act             2088\n",
       "hor             1407\n",
       "rom             1342\n",
       "crim            1287\n",
       "thriller        1143\n",
       "western          868\n",
       "sci              787\n",
       "anim             651\n",
       "adv              623\n",
       "mus              480\n",
       "famy             423\n",
       "war              410\n",
       "film             396\n",
       "mystery          356\n",
       "fantasy          337\n",
       "biograph         239\n",
       "                 222\n",
       "suspens          128\n",
       "short            124\n",
       "world             98\n",
       "spy               98\n",
       "hist              90\n",
       "soc               84\n",
       "docu              81\n",
       "biop              76\n",
       "ser               73\n",
       "mart              73\n",
       "superhero         62\n",
       "                ... \n",
       "docufict           1\n",
       "romance;           1\n",
       "action;            1\n",
       "rajendr            1\n",
       "arjun              1\n",
       "wartim             1\n",
       "tim                1\n",
       "inuit              1\n",
       "comedy[not         1\n",
       "from               1\n",
       "sou                1\n",
       "raghav             1\n",
       "legend             1\n",
       "yogesh             1\n",
       "bbc                1\n",
       "mahesh             1\n",
       "tapa               1\n",
       "chakravarthy       1\n",
       "yeh                1\n",
       "d.                 1\n",
       "televid            1\n",
       "occult             1\n",
       "punk               1\n",
       "sery               1\n",
       "b                  1\n",
       "[140]              1\n",
       "jida               1\n",
       "biogtaph           1\n",
       "thriler            1\n",
       "harem              1\n",
       "Name: stem, Length: 299, dtype: int64"
      ]
     },
     "execution_count": 25,
     "metadata": {},
     "output_type": "execute_result"
    }
   ],
   "source": [
    "df2['stem'].value_counts()"
   ]
  },
  {
   "cell_type": "code",
   "execution_count": 26,
   "metadata": {},
   "outputs": [],
   "source": [
    "df2 = df2[df2['stem'] != '']"
   ]
  },
  {
   "cell_type": "code",
   "execution_count": 27,
   "metadata": {},
   "outputs": [
    {
     "data": {
      "text/plain": [
       "149"
      ]
     },
     "execution_count": 27,
     "metadata": {},
     "output_type": "execute_result"
    }
   ],
   "source": [
    "sum(df2['stem'].value_counts() == 1)"
   ]
  },
  {
   "cell_type": "code",
   "execution_count": 28,
   "metadata": {
    "collapsed": true
   },
   "outputs": [],
   "source": [
    "df2.reset_index(inplace=True)"
   ]
  },
  {
   "cell_type": "code",
   "execution_count": 29,
   "metadata": {
    "collapsed": true
   },
   "outputs": [],
   "source": [
    "popular_nltk_genres = df2['stem'].value_counts()[:20].index\n",
    "df2 = df2[df2['stem'].isin(popular_nltk_genres)]"
   ]
  },
  {
   "cell_type": "code",
   "execution_count": 30,
   "metadata": {
    "collapsed": true
   },
   "outputs": [],
   "source": [
    "stem_dict = {}\n",
    "for i in range(len(df2.index)):\n",
    "    if df2.iloc[i]['stem'] not in stem_dict.keys():\n",
    "        stem_dict[df2.iloc[i]['stem']] = [df2.iloc[i][1]]\n",
    "    else:\n",
    "        stem_dict[df2.iloc[i]['stem']].append(df2.iloc[i][1])\n",
    "    "
   ]
  },
  {
   "cell_type": "code",
   "execution_count": 31,
   "metadata": {},
   "outputs": [
    {
     "data": {
      "text/plain": [
       "dict_keys(['western', 'comedy', 'short', 'act', 'film', 'biograph', 'dram', 'adv', 'fantasy', 'hor', 'crim', 'mystery', 'rom', 'war', 'thriller', 'mus', 'anim', 'sci', 'suspens', 'famy'])"
      ]
     },
     "execution_count": 31,
     "metadata": {},
     "output_type": "execute_result"
    }
   ],
   "source": [
    "stem_dict.keys()"
   ]
  },
  {
   "cell_type": "code",
   "execution_count": 32,
   "metadata": {
    "collapsed": true
   },
   "outputs": [],
   "source": [
    "for key in stem_dict.keys():\n",
    "    if len(stem_dict[key]) > 1:\n",
    "        stem_dict[key] = stem_dict[key][0]"
   ]
  },
  {
   "cell_type": "code",
   "execution_count": 33,
   "metadata": {
    "collapsed": true
   },
   "outputs": [],
   "source": [
    "df2['stem_genre'] = df2['stem'].apply(lambda x: stem_dict[x])"
   ]
  },
  {
   "cell_type": "code",
   "execution_count": 34,
   "metadata": {
    "collapsed": true
   },
   "outputs": [],
   "source": [
    "df2 = df2.groupby([0, 'stem_genre'], as_index=False).count()"
   ]
  },
  {
   "cell_type": "code",
   "execution_count": 35,
   "metadata": {
    "collapsed": true
   },
   "outputs": [],
   "source": [
    "df2.drop(['index', 'stem'], inplace=True, axis=1)\n",
    "df2.columns = ['Release year', 'stem_genre', 'stem_count']"
   ]
  },
  {
   "cell_type": "code",
   "execution_count": 36,
   "metadata": {},
   "outputs": [
    {
     "data": {
      "text/html": [
       "<div>\n",
       "<style>\n",
       "    .dataframe thead tr:only-child th {\n",
       "        text-align: right;\n",
       "    }\n",
       "\n",
       "    .dataframe thead th {\n",
       "        text-align: left;\n",
       "    }\n",
       "\n",
       "    .dataframe tbody tr th {\n",
       "        vertical-align: top;\n",
       "    }\n",
       "</style>\n",
       "<table border=\"1\" class=\"dataframe\">\n",
       "  <thead>\n",
       "    <tr style=\"text-align: right;\">\n",
       "      <th></th>\n",
       "      <th>Release year</th>\n",
       "      <th>stem_genre</th>\n",
       "      <th>stem_count</th>\n",
       "    </tr>\n",
       "  </thead>\n",
       "  <tbody>\n",
       "    <tr>\n",
       "      <th>0</th>\n",
       "      <td>1903</td>\n",
       "      <td>western</td>\n",
       "      <td>1</td>\n",
       "    </tr>\n",
       "    <tr>\n",
       "      <th>1</th>\n",
       "      <td>1904</td>\n",
       "      <td>comedy</td>\n",
       "      <td>1</td>\n",
       "    </tr>\n",
       "    <tr>\n",
       "      <th>2</th>\n",
       "      <td>1906</td>\n",
       "      <td>action</td>\n",
       "      <td>1</td>\n",
       "    </tr>\n",
       "    <tr>\n",
       "      <th>3</th>\n",
       "      <td>1906</td>\n",
       "      <td>film</td>\n",
       "      <td>1</td>\n",
       "    </tr>\n",
       "    <tr>\n",
       "      <th>4</th>\n",
       "      <td>1906</td>\n",
       "      <td>short</td>\n",
       "      <td>1</td>\n",
       "    </tr>\n",
       "  </tbody>\n",
       "</table>\n",
       "</div>"
      ],
      "text/plain": [
       "   Release year stem_genre  stem_count\n",
       "0          1903    western           1\n",
       "1          1904     comedy           1\n",
       "2          1906     action           1\n",
       "3          1906       film           1\n",
       "4          1906      short           1"
      ]
     },
     "execution_count": 36,
     "metadata": {},
     "output_type": "execute_result"
    }
   ],
   "source": [
    "df2.head()"
   ]
  },
  {
   "cell_type": "markdown",
   "metadata": {},
   "source": [
    "### Manual approach\n",
    "\n",
    "The nltk approach was a bit complicated, it required moving the operations to numpy arrays, as computations on pandas DataFrame were too heavy. Was it necessary? Actually scanning throught the values that appear in the genre column made me think that a simple lambda function would suffice to extract most popular genres. It seemed simple enough as I know the scope of possible movie genres fairly well. Let's see and compare it against nltk approach. I will use the measure of the number of values that appear only once after cleaning. For nltk it was down from 1550 to 149.\n",
    "\n",
    "Things I noticed that could provide a simple fix for most popular columns:\n",
    "* group all anime in one category (e.g. change `anime fantasy` to simple `anime`)\n",
    "* group all kinds of sci-fi spellings into one\n",
    "* group animated movies (`animated` to `animation`)\n",
    "* group romance movies (`romantic` to `romace`)\n",
    "* split columns like `comedy-drama` or `horror/action` and extracting only the first genre mentioned. My assumption is that the first is the most descriptive in general. I need high level genres and I decided this is the way to go.\n"
   ]
  },
  {
   "cell_type": "code",
   "execution_count": 37,
   "metadata": {},
   "outputs": [
    {
     "data": {
      "text/plain": [
       "'comedy'"
      ]
     },
     "execution_count": 37,
     "metadata": {},
     "output_type": "execute_result"
    }
   ],
   "source": [
    "re.split('-|/|,', 'comedy/drama')[0]"
   ]
  },
  {
   "cell_type": "code",
   "execution_count": 38,
   "metadata": {
    "collapsed": true
   },
   "outputs": [],
   "source": [
    "df['manually_cleaned'] = df['Genre'].apply(lambda x: 'anime' if 'anime' in x.lower() else\n",
    "                                         ('sci-fi' if 'science-fiction' in x.lower() else\n",
    "                                         ('sci-fi' if 'science fiction' in x.lower() else \n",
    "                                         ('animation' if 'animated' in x.lower() else \n",
    "                                         ('romance' if 'romantic' in x.lower() else \n",
    "                                          (re.split(' |-|/|,', x)[0] if len(re.split(' |-|/|,', x)) > 1\n",
    "                                          and re.split(' |-|/|,', x)[0] != 'sci' else x))))))"
   ]
  },
  {
   "cell_type": "code",
   "execution_count": 39,
   "metadata": {},
   "outputs": [
    {
     "data": {
      "text/plain": [
       "365"
      ]
     },
     "execution_count": 39,
     "metadata": {},
     "output_type": "execute_result"
    }
   ],
   "source": [
    "df['manually_cleaned'].nunique()"
   ]
  },
  {
   "cell_type": "code",
   "execution_count": 40,
   "metadata": {},
   "outputs": [
    {
     "data": {
      "text/plain": [
       "drama             6873\n",
       "comedy            5623\n",
       "action            2045\n",
       "romance           1974\n",
       "horror            1384\n",
       "crime             1278\n",
       "thriller          1061\n",
       "western            923\n",
       "sci-fi             770\n",
       "animation          744\n",
       "musical            707\n",
       "adventure          603\n",
       "war                407\n",
       "family             394\n",
       "mystery            354\n",
       "film               345\n",
       "fantasy            314\n",
       "biography          214\n",
       "historical         204\n",
       "social             169\n",
       "anime              143\n",
       "suspense           127\n",
       "world               98\n",
       "spy                 97\n",
       "documentary         80\n",
       "martial             72\n",
       "serial              71\n",
       "short               71\n",
       "biopic              71\n",
       "sports              63\n",
       "                  ... \n",
       "inuit                1\n",
       "raja                 1\n",
       "united               1\n",
       "sci-fi/fantasy       1\n",
       "psy                  1\n",
       "urban                1\n",
       "legend               1\n",
       "double               1\n",
       "yogesh               1\n",
       "bbc                  1\n",
       "biogtaphy            1\n",
       "mahesh               1\n",
       "superheroes          1\n",
       "computer             1\n",
       "priyadarshini        1\n",
       "chakravarthy         1\n",
       "yeh                  1\n",
       "d.                   1\n",
       "american             1\n",
       "chanchal             1\n",
       "occult               1\n",
       "punk                 1\n",
       "keiji                1\n",
       "jidai                1\n",
       "sci-fi romance       1\n",
       "[140]                1\n",
       "television           1\n",
       "sci-fi action        1\n",
       "thriler              1\n",
       "pseudo               1\n",
       "Name: manually_cleaned, Length: 365, dtype: int64"
      ]
     },
     "execution_count": 40,
     "metadata": {},
     "output_type": "execute_result"
    }
   ],
   "source": [
    "df['manually_cleaned'].value_counts()"
   ]
  },
  {
   "cell_type": "code",
   "execution_count": 41,
   "metadata": {},
   "outputs": [
    {
     "data": {
      "text/plain": [
       "188"
      ]
     },
     "execution_count": 41,
     "metadata": {},
     "output_type": "execute_result"
    }
   ],
   "source": [
    "sum(df['manually_cleaned'].value_counts() == 1)"
   ]
  },
  {
   "cell_type": "markdown",
   "metadata": {},
   "source": [
    "### Compare top genres with movie count from 2 ways of data cleaning"
   ]
  },
  {
   "cell_type": "code",
   "execution_count": 42,
   "metadata": {
    "scrolled": true
   },
   "outputs": [
    {
     "data": {
      "text/plain": [
       "Index(['drama', 'comedy', 'action', 'romance', 'horror', 'crime', 'thriller',\n",
       "       'western', 'sci-fi', 'animation', 'musical', 'adventure', 'war',\n",
       "       'family', 'mystery', 'film', 'fantasy', 'biography', 'historical',\n",
       "       'social'],\n",
       "      dtype='object')"
      ]
     },
     "execution_count": 42,
     "metadata": {},
     "output_type": "execute_result"
    }
   ],
   "source": [
    "# from manual cleaning\n",
    "popular_genres = df['manually_cleaned'].value_counts()[:20].index\n",
    "popular_genres"
   ]
  },
  {
   "cell_type": "code",
   "execution_count": 43,
   "metadata": {
    "collapsed": true
   },
   "outputs": [],
   "source": [
    "df3 = df[df['manually_cleaned'].isin(popular_genres)]"
   ]
  },
  {
   "cell_type": "code",
   "execution_count": 44,
   "metadata": {},
   "outputs": [],
   "source": [
    "df3 = df3.groupby(['Release Year', 'manually_cleaned'])[['Title']].count()"
   ]
  },
  {
   "cell_type": "code",
   "execution_count": 45,
   "metadata": {
    "collapsed": true
   },
   "outputs": [],
   "source": [
    "df3.reset_index(inplace=True)"
   ]
  },
  {
   "cell_type": "code",
   "execution_count": 46,
   "metadata": {
    "collapsed": true
   },
   "outputs": [],
   "source": [
    "df3 = df3.pivot_table(index='Release Year', columns='manually_cleaned', values='Title')"
   ]
  },
  {
   "cell_type": "code",
   "execution_count": 47,
   "metadata": {
    "collapsed": true
   },
   "outputs": [],
   "source": [
    "df3.fillna(0, inplace=True)"
   ]
  },
  {
   "cell_type": "code",
   "execution_count": 48,
   "metadata": {
    "scrolled": true
   },
   "outputs": [
    {
     "data": {
      "text/html": [
       "<div>\n",
       "<style>\n",
       "    .dataframe thead tr:only-child th {\n",
       "        text-align: right;\n",
       "    }\n",
       "\n",
       "    .dataframe thead th {\n",
       "        text-align: left;\n",
       "    }\n",
       "\n",
       "    .dataframe tbody tr th {\n",
       "        vertical-align: top;\n",
       "    }\n",
       "</style>\n",
       "<table border=\"1\" class=\"dataframe\">\n",
       "  <thead>\n",
       "    <tr style=\"text-align: right;\">\n",
       "      <th>manually_cleaned</th>\n",
       "      <th>action</th>\n",
       "      <th>adventure</th>\n",
       "      <th>animation</th>\n",
       "      <th>biography</th>\n",
       "      <th>comedy</th>\n",
       "      <th>crime</th>\n",
       "      <th>drama</th>\n",
       "      <th>family</th>\n",
       "      <th>fantasy</th>\n",
       "      <th>film</th>\n",
       "      <th>historical</th>\n",
       "      <th>horror</th>\n",
       "      <th>musical</th>\n",
       "      <th>mystery</th>\n",
       "      <th>romance</th>\n",
       "      <th>sci-fi</th>\n",
       "      <th>social</th>\n",
       "      <th>thriller</th>\n",
       "      <th>war</th>\n",
       "      <th>western</th>\n",
       "    </tr>\n",
       "    <tr>\n",
       "      <th>Release Year</th>\n",
       "      <th></th>\n",
       "      <th></th>\n",
       "      <th></th>\n",
       "      <th></th>\n",
       "      <th></th>\n",
       "      <th></th>\n",
       "      <th></th>\n",
       "      <th></th>\n",
       "      <th></th>\n",
       "      <th></th>\n",
       "      <th></th>\n",
       "      <th></th>\n",
       "      <th></th>\n",
       "      <th></th>\n",
       "      <th></th>\n",
       "      <th></th>\n",
       "      <th></th>\n",
       "      <th></th>\n",
       "      <th></th>\n",
       "      <th></th>\n",
       "    </tr>\n",
       "  </thead>\n",
       "  <tbody>\n",
       "    <tr>\n",
       "      <th>1903</th>\n",
       "      <td>0.0</td>\n",
       "      <td>0.0</td>\n",
       "      <td>0.0</td>\n",
       "      <td>0.0</td>\n",
       "      <td>0.0</td>\n",
       "      <td>0.0</td>\n",
       "      <td>0.0</td>\n",
       "      <td>0.0</td>\n",
       "      <td>0.0</td>\n",
       "      <td>0.0</td>\n",
       "      <td>0.0</td>\n",
       "      <td>0.0</td>\n",
       "      <td>0.0</td>\n",
       "      <td>0.0</td>\n",
       "      <td>0.0</td>\n",
       "      <td>0.0</td>\n",
       "      <td>0.0</td>\n",
       "      <td>0.0</td>\n",
       "      <td>0.0</td>\n",
       "      <td>1.0</td>\n",
       "    </tr>\n",
       "    <tr>\n",
       "      <th>1904</th>\n",
       "      <td>0.0</td>\n",
       "      <td>0.0</td>\n",
       "      <td>0.0</td>\n",
       "      <td>0.0</td>\n",
       "      <td>1.0</td>\n",
       "      <td>0.0</td>\n",
       "      <td>0.0</td>\n",
       "      <td>0.0</td>\n",
       "      <td>0.0</td>\n",
       "      <td>0.0</td>\n",
       "      <td>0.0</td>\n",
       "      <td>0.0</td>\n",
       "      <td>0.0</td>\n",
       "      <td>0.0</td>\n",
       "      <td>0.0</td>\n",
       "      <td>0.0</td>\n",
       "      <td>0.0</td>\n",
       "      <td>0.0</td>\n",
       "      <td>0.0</td>\n",
       "      <td>0.0</td>\n",
       "    </tr>\n",
       "    <tr>\n",
       "      <th>1907</th>\n",
       "      <td>0.0</td>\n",
       "      <td>0.0</td>\n",
       "      <td>0.0</td>\n",
       "      <td>0.0</td>\n",
       "      <td>2.0</td>\n",
       "      <td>0.0</td>\n",
       "      <td>0.0</td>\n",
       "      <td>0.0</td>\n",
       "      <td>0.0</td>\n",
       "      <td>0.0</td>\n",
       "      <td>0.0</td>\n",
       "      <td>0.0</td>\n",
       "      <td>0.0</td>\n",
       "      <td>0.0</td>\n",
       "      <td>0.0</td>\n",
       "      <td>0.0</td>\n",
       "      <td>0.0</td>\n",
       "      <td>0.0</td>\n",
       "      <td>0.0</td>\n",
       "      <td>0.0</td>\n",
       "    </tr>\n",
       "    <tr>\n",
       "      <th>1908</th>\n",
       "      <td>0.0</td>\n",
       "      <td>1.0</td>\n",
       "      <td>0.0</td>\n",
       "      <td>0.0</td>\n",
       "      <td>1.0</td>\n",
       "      <td>0.0</td>\n",
       "      <td>3.0</td>\n",
       "      <td>0.0</td>\n",
       "      <td>0.0</td>\n",
       "      <td>0.0</td>\n",
       "      <td>0.0</td>\n",
       "      <td>0.0</td>\n",
       "      <td>0.0</td>\n",
       "      <td>0.0</td>\n",
       "      <td>0.0</td>\n",
       "      <td>0.0</td>\n",
       "      <td>0.0</td>\n",
       "      <td>0.0</td>\n",
       "      <td>0.0</td>\n",
       "      <td>1.0</td>\n",
       "    </tr>\n",
       "    <tr>\n",
       "      <th>1909</th>\n",
       "      <td>0.0</td>\n",
       "      <td>0.0</td>\n",
       "      <td>0.0</td>\n",
       "      <td>0.0</td>\n",
       "      <td>0.0</td>\n",
       "      <td>0.0</td>\n",
       "      <td>3.0</td>\n",
       "      <td>0.0</td>\n",
       "      <td>0.0</td>\n",
       "      <td>0.0</td>\n",
       "      <td>0.0</td>\n",
       "      <td>0.0</td>\n",
       "      <td>0.0</td>\n",
       "      <td>0.0</td>\n",
       "      <td>0.0</td>\n",
       "      <td>0.0</td>\n",
       "      <td>0.0</td>\n",
       "      <td>0.0</td>\n",
       "      <td>0.0</td>\n",
       "      <td>0.0</td>\n",
       "    </tr>\n",
       "  </tbody>\n",
       "</table>\n",
       "</div>"
      ],
      "text/plain": [
       "manually_cleaned  action  adventure  animation  biography  comedy  crime  \\\n",
       "Release Year                                                               \n",
       "1903                 0.0        0.0        0.0        0.0     0.0    0.0   \n",
       "1904                 0.0        0.0        0.0        0.0     1.0    0.0   \n",
       "1907                 0.0        0.0        0.0        0.0     2.0    0.0   \n",
       "1908                 0.0        1.0        0.0        0.0     1.0    0.0   \n",
       "1909                 0.0        0.0        0.0        0.0     0.0    0.0   \n",
       "\n",
       "manually_cleaned  drama  family  fantasy  film  historical  horror  musical  \\\n",
       "Release Year                                                                  \n",
       "1903                0.0     0.0      0.0   0.0         0.0     0.0      0.0   \n",
       "1904                0.0     0.0      0.0   0.0         0.0     0.0      0.0   \n",
       "1907                0.0     0.0      0.0   0.0         0.0     0.0      0.0   \n",
       "1908                3.0     0.0      0.0   0.0         0.0     0.0      0.0   \n",
       "1909                3.0     0.0      0.0   0.0         0.0     0.0      0.0   \n",
       "\n",
       "manually_cleaned  mystery  romance  sci-fi  social  thriller  war  western  \n",
       "Release Year                                                                \n",
       "1903                  0.0      0.0     0.0     0.0       0.0  0.0      1.0  \n",
       "1904                  0.0      0.0     0.0     0.0       0.0  0.0      0.0  \n",
       "1907                  0.0      0.0     0.0     0.0       0.0  0.0      0.0  \n",
       "1908                  0.0      0.0     0.0     0.0       0.0  0.0      1.0  \n",
       "1909                  0.0      0.0     0.0     0.0       0.0  0.0      0.0  "
      ]
     },
     "execution_count": 48,
     "metadata": {},
     "output_type": "execute_result"
    }
   ],
   "source": [
    "df3.head()"
   ]
  },
  {
   "cell_type": "code",
   "execution_count": 49,
   "metadata": {
    "scrolled": false
   },
   "outputs": [
    {
     "data": {
      "image/png": "[encoded data removed]",
      "text/plain": [
       "<matplotlib.figure.Figure at 0x1a1911a320>"
      ]
     },
     "metadata": {},
     "output_type": "display_data"
    }
   ],
   "source": [
    "genre, decade = np.mgrid[:df3.shape[0]+1, :df3.shape[1]+1]\n",
    "fig, ax = pl.subplots(figsize=(15, 8))\n",
    "# ax.set_aspect(\"equal\")\n",
    "pl.pcolormesh(genre ,decade , df3.values, cmap='Purples', edgecolor='w', linewidth=2, vmin=-10, vmax=200)\n",
    "pl.xlim(0, df3.shape[0])\n",
    "\n",
    "# y axis\n",
    "ax.yaxis.set_major_locator(MaxNLocator(20))\n",
    "ax.set_yticklabels(df3.columns, fontsize=15, fontdict={'horizontalalignment':'left'})\n",
    "y_loc = ax.get_yticks()\n",
    "ax.set_yticks(y_loc + 0.6)\n",
    "ax.tick_params(axis='y', direction='in', pad=-10, colors='black', width=20)\n",
    "\n",
    "# x axis\n",
    "ax.xaxis.set_major_locator(MaxNLocator(12))\n",
    "ax.set_xticklabels([x for x in df3.index if x % 10 == 0])\n",
    "ax.tick_params(axis='x', pad=10, labelcolor='#878787')\n",
    "\n",
    "\n",
    "# remove frame\n",
    "for spine in plt.gca().spines.values():\n",
    "    spine.set_visible(False)\n",
    "ax.tick_params(top='off', bottom='off', left='off', right='off', labelleft='on', labelbottom='on')\n",
    "\n",
    "ax.set_title('Frequency of movies of a given genre released in years 1900-2019', fontsize=16);"
   ]
  },
  {
   "cell_type": "code",
   "execution_count": 50,
   "metadata": {},
   "outputs": [
    {
     "data": {
      "text/html": [
       "<div>\n",
       "<style>\n",
       "    .dataframe thead tr:only-child th {\n",
       "        text-align: right;\n",
       "    }\n",
       "\n",
       "    .dataframe thead th {\n",
       "        text-align: left;\n",
       "    }\n",
       "\n",
       "    .dataframe tbody tr th {\n",
       "        vertical-align: top;\n",
       "    }\n",
       "</style>\n",
       "<table border=\"1\" class=\"dataframe\">\n",
       "  <thead>\n",
       "    <tr style=\"text-align: right;\">\n",
       "      <th>stem_genre</th>\n",
       "      <th>action</th>\n",
       "      <th>adventure</th>\n",
       "      <th>animation</th>\n",
       "      <th>biographical</th>\n",
       "      <th>comedy</th>\n",
       "      <th>crime</th>\n",
       "      <th>drama</th>\n",
       "      <th>family</th>\n",
       "      <th>fantasy</th>\n",
       "      <th>film</th>\n",
       "      <th>horror</th>\n",
       "      <th>musical</th>\n",
       "      <th>mystery</th>\n",
       "      <th>romance</th>\n",
       "      <th>science</th>\n",
       "      <th>short</th>\n",
       "      <th>suspense</th>\n",
       "      <th>thriller</th>\n",
       "      <th>war</th>\n",
       "      <th>western</th>\n",
       "    </tr>\n",
       "    <tr>\n",
       "      <th>Release year</th>\n",
       "      <th></th>\n",
       "      <th></th>\n",
       "      <th></th>\n",
       "      <th></th>\n",
       "      <th></th>\n",
       "      <th></th>\n",
       "      <th></th>\n",
       "      <th></th>\n",
       "      <th></th>\n",
       "      <th></th>\n",
       "      <th></th>\n",
       "      <th></th>\n",
       "      <th></th>\n",
       "      <th></th>\n",
       "      <th></th>\n",
       "      <th></th>\n",
       "      <th></th>\n",
       "      <th></th>\n",
       "      <th></th>\n",
       "      <th></th>\n",
       "    </tr>\n",
       "  </thead>\n",
       "  <tbody>\n",
       "    <tr>\n",
       "      <th>1903</th>\n",
       "      <td>0.0</td>\n",
       "      <td>0.0</td>\n",
       "      <td>0.0</td>\n",
       "      <td>0.0</td>\n",
       "      <td>0.0</td>\n",
       "      <td>0.0</td>\n",
       "      <td>0.0</td>\n",
       "      <td>0.0</td>\n",
       "      <td>0.0</td>\n",
       "      <td>0.0</td>\n",
       "      <td>0.0</td>\n",
       "      <td>0.0</td>\n",
       "      <td>0.0</td>\n",
       "      <td>0.0</td>\n",
       "      <td>0.0</td>\n",
       "      <td>0.0</td>\n",
       "      <td>0.0</td>\n",
       "      <td>0.0</td>\n",
       "      <td>0.0</td>\n",
       "      <td>1.0</td>\n",
       "    </tr>\n",
       "    <tr>\n",
       "      <th>1904</th>\n",
       "      <td>0.0</td>\n",
       "      <td>0.0</td>\n",
       "      <td>0.0</td>\n",
       "      <td>0.0</td>\n",
       "      <td>1.0</td>\n",
       "      <td>0.0</td>\n",
       "      <td>0.0</td>\n",
       "      <td>0.0</td>\n",
       "      <td>0.0</td>\n",
       "      <td>0.0</td>\n",
       "      <td>0.0</td>\n",
       "      <td>0.0</td>\n",
       "      <td>0.0</td>\n",
       "      <td>0.0</td>\n",
       "      <td>0.0</td>\n",
       "      <td>0.0</td>\n",
       "      <td>0.0</td>\n",
       "      <td>0.0</td>\n",
       "      <td>0.0</td>\n",
       "      <td>0.0</td>\n",
       "    </tr>\n",
       "    <tr>\n",
       "      <th>1906</th>\n",
       "      <td>1.0</td>\n",
       "      <td>0.0</td>\n",
       "      <td>0.0</td>\n",
       "      <td>0.0</td>\n",
       "      <td>0.0</td>\n",
       "      <td>0.0</td>\n",
       "      <td>0.0</td>\n",
       "      <td>0.0</td>\n",
       "      <td>0.0</td>\n",
       "      <td>1.0</td>\n",
       "      <td>0.0</td>\n",
       "      <td>0.0</td>\n",
       "      <td>0.0</td>\n",
       "      <td>0.0</td>\n",
       "      <td>0.0</td>\n",
       "      <td>1.0</td>\n",
       "      <td>0.0</td>\n",
       "      <td>0.0</td>\n",
       "      <td>0.0</td>\n",
       "      <td>0.0</td>\n",
       "    </tr>\n",
       "    <tr>\n",
       "      <th>1907</th>\n",
       "      <td>0.0</td>\n",
       "      <td>0.0</td>\n",
       "      <td>0.0</td>\n",
       "      <td>1.0</td>\n",
       "      <td>2.0</td>\n",
       "      <td>0.0</td>\n",
       "      <td>0.0</td>\n",
       "      <td>0.0</td>\n",
       "      <td>0.0</td>\n",
       "      <td>0.0</td>\n",
       "      <td>0.0</td>\n",
       "      <td>0.0</td>\n",
       "      <td>0.0</td>\n",
       "      <td>0.0</td>\n",
       "      <td>0.0</td>\n",
       "      <td>0.0</td>\n",
       "      <td>0.0</td>\n",
       "      <td>0.0</td>\n",
       "      <td>0.0</td>\n",
       "      <td>0.0</td>\n",
       "    </tr>\n",
       "    <tr>\n",
       "      <th>1908</th>\n",
       "      <td>0.0</td>\n",
       "      <td>1.0</td>\n",
       "      <td>0.0</td>\n",
       "      <td>0.0</td>\n",
       "      <td>1.0</td>\n",
       "      <td>0.0</td>\n",
       "      <td>3.0</td>\n",
       "      <td>0.0</td>\n",
       "      <td>0.0</td>\n",
       "      <td>0.0</td>\n",
       "      <td>0.0</td>\n",
       "      <td>0.0</td>\n",
       "      <td>0.0</td>\n",
       "      <td>0.0</td>\n",
       "      <td>0.0</td>\n",
       "      <td>0.0</td>\n",
       "      <td>0.0</td>\n",
       "      <td>0.0</td>\n",
       "      <td>0.0</td>\n",
       "      <td>1.0</td>\n",
       "    </tr>\n",
       "  </tbody>\n",
       "</table>\n",
       "</div>"
      ],
      "text/plain": [
       "stem_genre    action  adventure  animation  biographical  comedy  crime  \\\n",
       "Release year                                                              \n",
       "1903             0.0        0.0        0.0           0.0     0.0    0.0   \n",
       "1904             0.0        0.0        0.0           0.0     1.0    0.0   \n",
       "1906             1.0        0.0        0.0           0.0     0.0    0.0   \n",
       "1907             0.0        0.0        0.0           1.0     2.0    0.0   \n",
       "1908             0.0        1.0        0.0           0.0     1.0    0.0   \n",
       "\n",
       "stem_genre    drama  family  fantasy  film  horror  musical  mystery  romance  \\\n",
       "Release year                                                                    \n",
       "1903            0.0     0.0      0.0   0.0     0.0      0.0      0.0      0.0   \n",
       "1904            0.0     0.0      0.0   0.0     0.0      0.0      0.0      0.0   \n",
       "1906            0.0     0.0      0.0   1.0     0.0      0.0      0.0      0.0   \n",
       "1907            0.0     0.0      0.0   0.0     0.0      0.0      0.0      0.0   \n",
       "1908            3.0     0.0      0.0   0.0     0.0      0.0      0.0      0.0   \n",
       "\n",
       "stem_genre    science  short  suspense  thriller  war  western  \n",
       "Release year                                                    \n",
       "1903              0.0    0.0       0.0       0.0  0.0      1.0  \n",
       "1904              0.0    0.0       0.0       0.0  0.0      0.0  \n",
       "1906              0.0    1.0       0.0       0.0  0.0      0.0  \n",
       "1907              0.0    0.0       0.0       0.0  0.0      0.0  \n",
       "1908              0.0    0.0       0.0       0.0  0.0      1.0  "
      ]
     },
     "execution_count": 50,
     "metadata": {},
     "output_type": "execute_result"
    }
   ],
   "source": [
    "# from nlth approach\n",
    "df2 = df2.pivot_table(index='Release year', columns='stem_genre', values='stem_count')\n",
    "df2.fillna(0, inplace=True)\n",
    "df2.head()"
   ]
  },
  {
   "cell_type": "code",
   "execution_count": 51,
   "metadata": {},
   "outputs": [
    {
     "data": {
      "image/png": "[encoded data removed]",
      "text/plain": [
       "<matplotlib.figure.Figure at 0x1a169d19e8>"
      ]
     },
     "metadata": {},
     "output_type": "display_data"
    }
   ],
   "source": [
    "genre, decade = np.mgrid[:df2.shape[0]+1, :df2.shape[1]+1]\n",
    "fig, ax = pl.subplots(figsize=(15, 8))\n",
    "# ax.set_aspect(\"equal\")\n",
    "pl.pcolormesh(genre ,decade , df2.values, cmap='Purples', edgecolor='w', linewidth=2, vmin=-10, vmax=200)\n",
    "pl.xlim(0, df2.shape[0])\n",
    "\n",
    "# y axis\n",
    "ax.yaxis.set_major_locator(MaxNLocator(20))\n",
    "ax.set_yticklabels(df2.columns, fontsize=15, fontdict={'horizontalalignment':'left'})\n",
    "y_loc = ax.get_yticks()\n",
    "ax.set_yticks(y_loc + 0.6)\n",
    "ax.tick_params(axis='y', direction='in', pad=-10, colors='black', width=20)\n",
    "\n",
    "# x axis\n",
    "ax.xaxis.set_major_locator(MaxNLocator(12))\n",
    "ax.set_xticklabels([x for x in df2.index if x % 10 == 0])\n",
    "ax.tick_params(axis='x', pad=10, labelcolor='#878787')\n",
    "\n",
    "\n",
    "# remove frame\n",
    "for spine in plt.gca().spines.values():\n",
    "    spine.set_visible(False)\n",
    "ax.tick_params(top='off', bottom='off', left='off', right='off', labelleft='on', labelbottom='on')\n",
    "\n",
    "ax.set_title('Frequency of movies of a given genre released in years 1900-2019', fontsize=16);"
   ]
  },
  {
   "cell_type": "code",
   "execution_count": null,
   "metadata": {
    "collapsed": true
   },
   "outputs": [],
   "source": []
  }
 ],
 "metadata": {
  "kernelspec": {
   "display_name": "Python 3",
   "language": "python",
   "name": "python3"
  },
  "language_info": {
   "codemirror_mode": {
    "name": "ipython",
    "version": 3
   },
   "file_extension": ".py",
   "mimetype": "text/x-python",
   "name": "python",
   "nbconvert_exporter": "python",
   "pygments_lexer": "ipython3",
   "version": "3.6.3"
  }
 },
 "nbformat": 4,
 "nbformat_minor": 2
}
