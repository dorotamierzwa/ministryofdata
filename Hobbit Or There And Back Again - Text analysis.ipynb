{
 "cells": [
  {
   "cell_type": "markdown",
   "metadata": {},
   "source": [
    "## The Hobbit - Or there and back again\n",
    "\n",
    "### Book analysis"
   ]
  },
  {
   "cell_type": "code",
   "execution_count": 25,
   "metadata": {},
   "outputs": [],
   "source": [
    "from nltk.tokenize import sent_tokenize\n",
    "import nltk\n",
    "from nltk.corpus import words\n",
    "from nltk.stem import WordNetLemmatizer\n",
    "from nltk.sentiment.vader import SentimentIntensityAnalyzer\n",
    "\n",
    "import string\n",
    "import re\n",
    "import pandas as pd\n",
    "import numpy as np\n",
    "from operator import itemgetter\n",
    "\n",
    "import matplotlib.pyplot as plt\n",
    "import matplotlib\n",
    "import seaborn as sns\n",
    "\n",
    "import warnings\n",
    "warnings.filterwarnings('ignore')\n",
    "\n",
    "%matplotlib inline"
   ]
  },
  {
   "cell_type": "markdown",
   "metadata": {},
   "source": [
    "## Cleaning data"
   ]
  },
  {
   "cell_type": "code",
   "execution_count": 2,
   "metadata": {},
   "outputs": [
    {
     "name": "stdout",
     "output_type": "stream",
     "text": [
      "showing info https://raw.githubusercontent.com/nltk/nltk_data/gh-pages/index.xml\n"
     ]
    },
    {
     "data": {
      "text/plain": [
       "True"
      ]
     },
     "execution_count": 2,
     "metadata": {},
     "output_type": "execute_result"
    }
   ],
   "source": [
    "nltk.download()"
   ]
  },
  {
   "cell_type": "code",
   "execution_count": 18,
   "metadata": {
    "collapsed": true
   },
   "outputs": [],
   "source": [
    "text = open('hobbit.txt', 'r').read()"
   ]
  },
  {
   "cell_type": "code",
   "execution_count": 19,
   "metadata": {},
   "outputs": [
    {
     "data": {
      "text/plain": [
       "'\\n\\n\\n\\n\\n\\n\\nTHE HOBBIT \\n\\n\\n\\nOR \\n\\nTHERE AND BACK \\nAGAIN \\n\\n\\n\\nJ.R.R. TOLKIEN \\n\\n\\n\\nThe Hobbit is a tale of high'"
      ]
     },
     "execution_count": 19,
     "metadata": {},
     "output_type": "execute_result"
    }
   ],
   "source": [
    "text[:100]"
   ]
  },
  {
   "cell_type": "code",
   "execution_count": 20,
   "metadata": {},
   "outputs": [],
   "source": [
    "text = text.replace('\\n', '')"
   ]
  },
  {
   "cell_type": "code",
   "execution_count": 23,
   "metadata": {},
   "outputs": [],
   "source": [
    "sentences = nltk.sent_tokenize(text)"
   ]
  },
  {
   "cell_type": "code",
   "execution_count": 24,
   "metadata": {},
   "outputs": [
    {
     "data": {
      "text/plain": [
       "4915"
      ]
     },
     "execution_count": 24,
     "metadata": {},
     "output_type": "execute_result"
    }
   ],
   "source": [
    "len(sentences)"
   ]
  },
  {
   "cell_type": "code",
   "execution_count": 12,
   "metadata": {},
   "outputs": [
    {
     "data": {
      "text/plain": [
       "'TOLKIEN The Hobbit is a tale of high adventure, undertaken by a company of dwarves, in search of dragon-guarded gold.'"
      ]
     },
     "execution_count": 12,
     "metadata": {},
     "output_type": "execute_result"
    }
   ],
   "source": [
    "sentences[1]"
   ]
  },
  {
   "cell_type": "code",
   "execution_count": 13,
   "metadata": {
    "collapsed": true
   },
   "outputs": [],
   "source": [
    "# Remove some annotations\n",
    "sentences = sentences[34:4904]"
   ]
  },
  {
   "cell_type": "code",
   "execution_count": 14,
   "metadata": {},
   "outputs": [
    {
     "data": {
      "text/plain": [
       "'You are a very fine person, Mr. Baggins, and I am very fond of you; but you are only quite a little fellow in a wide world after all!” “Thank goodness!” said Bilbo laughing, and handed him the tobacco-jar.'"
      ]
     },
     "execution_count": 14,
     "metadata": {},
     "output_type": "execute_result"
    }
   ],
   "source": [
    "sentences[-1]"
   ]
  },
  {
   "cell_type": "code",
   "execution_count": 15,
   "metadata": {},
   "outputs": [
    {
     "data": {
      "text/plain": [
       "'Chapter I AN UNEXPECTED PARTY In a hole in the ground there lived a hobbit.'"
      ]
     },
     "execution_count": 15,
     "metadata": {},
     "output_type": "execute_result"
    }
   ],
   "source": [
    "sentences[0]"
   ]
  },
  {
   "cell_type": "markdown",
   "metadata": {},
   "source": [
    "## Sentiment Analysis"
   ]
  },
  {
   "cell_type": "code",
   "execution_count": 17,
   "metadata": {
    "collapsed": true
   },
   "outputs": [],
   "source": [
    "sid = SentimentIntensityAnalyzer()"
   ]
  },
  {
   "cell_type": "code",
   "execution_count": 18,
   "metadata": {
    "collapsed": true,
    "scrolled": false
   },
   "outputs": [],
   "source": [
    "compound_scores = []\n",
    "for sentence in sentences:\n",
    "    compound_scores.append((sentence, sid.polarity_scores(sentence)['compound'],\n",
    "                            sid.polarity_scores(sentence)['pos'],\n",
    "                           sid.polarity_scores(sentence)['neg'],\n",
    "                           sid.polarity_scores(sentence)['neu']))"
   ]
  },
  {
   "cell_type": "code",
   "execution_count": 19,
   "metadata": {},
   "outputs": [
    {
     "data": {
      "text/plain": [
       "('Not a nasty, dirty, wet hole, filled with the ends of worms and an oozy smell, nor yet a dry, bare, sandy hole with nothing in it to sit down on or to eat: it was a hobbit-hole, and that means comfort.',\n",
       " 0.7802,\n",
       " 0.179,\n",
       " 0.0,\n",
       " 0.821)"
      ]
     },
     "execution_count": 19,
     "metadata": {},
     "output_type": "execute_result"
    }
   ],
   "source": [
    "compound_scores[1]"
   ]
  },
  {
   "cell_type": "code",
   "execution_count": 20,
   "metadata": {},
   "outputs": [
    {
     "name": "stdout",
     "output_type": "stream",
     "text": [
      "('Chapter I AN UNEXPECTED PARTY In a hole in the ground there lived a hobbit.', 0.5319, 0.238, 0.0, 0.762) \n",
      "\n",
      "('Not a nasty, dirty, wet hole, filled with the ends of worms and an oozy smell, nor yet a dry, bare, sandy hole with nothing in it to sit down on or to eat: it was a hobbit-hole, and that means comfort.', 0.7802, 0.179, 0.0, 0.821) \n",
      "\n",
      "('It had a perfectly round door like a porthole, painted green, with a shiny yellow brass knob in the exact middle.', 0.7717, 0.295, 0.0, 0.705) \n",
      "\n",
      "('The door opened on to a tube-shaped hall like a tunnel: a very comfortable tunnel without smoke, with panelled walls, and floors tiled and carpeted, provided with polished chairs, and lots and lots of pegs for hats and coats — the hobbit was fond of visitors.', 0.8399, 0.187, 0.0, 0.813) \n",
      "\n",
      "('No going upstairs for the hobbit: bedrooms, bathrooms, cellars, pantries (lots of these), wardrobes (he had whole rooms devoted to clothes), kitchens, dining-rooms, all were on the same floor, and indeed on the same passage.', 0.128, 0.071, 0.058, 0.871) \n",
      "\n",
      "('The best rooms were all on the left-hand side (going in), for these were the only ones to have windows, deep-set round windows looking over his garden, and meadows beyond, sloping down to the river.', 0.6369, 0.11, 0.0, 0.89) \n",
      "\n"
     ]
    }
   ],
   "source": [
    "i = 0\n",
    "for el in compound_scores:\n",
    "    if el[1] > 0:\n",
    "        print(el, '\\n')\n",
    "        i += 1\n",
    "    if i > 5:\n",
    "        break"
   ]
  },
  {
   "cell_type": "code",
   "execution_count": 21,
   "metadata": {},
   "outputs": [
    {
     "name": "stdout",
     "output_type": "stream",
     "text": [
      "('The tunnel wound on and on, going fairly but not quite straight into the side of the hill — The Hill, as all the people for many miles round called it — and many little round doors opened out of it, first on one side and then on another.', -0.3235, 0.0, 0.048, 0.952) \n",
      "\n",
      "('I suppose hobbits need some description nowadays, since they have become rare and shy of the Big People, as they call us.', -0.25, 0.0, 0.091, 0.909) \n",
      "\n",
      "('Hobbits have no beards.', -0.296, 0.0, 0.423, 0.577) \n",
      "\n",
      "('He had not been down that way under The Hill for ages and ages, not since his friend the Old Took died, in fact, and the hobbits had almost forgotten what he looked like.', -0.6525, 0.062, 0.194, 0.744) \n",
      "\n",
      "('But Gandalf looked at him from under long bushy eyebrows that stuck out further than the brim of his shady hat.', -0.25, 0.0, 0.091, 0.909) \n",
      "\n",
      "('“But I have no time to blow smoke-rings this morning.', -0.296, 0.0, 0.216, 0.784) \n",
      "\n"
     ]
    }
   ],
   "source": [
    "i = 0\n",
    "for el in compound_scores:\n",
    "    if el[1] < 0:\n",
    "        print(el, '\\n')\n",
    "        i += 1\n",
    "    if i > 5:\n",
    "        break"
   ]
  },
  {
   "cell_type": "code",
   "execution_count": 22,
   "metadata": {},
   "outputs": [
    {
     "name": "stdout",
     "output_type": "stream",
     "text": [
      "\n",
      "Most negative compound score assigned to: \n",
      " ('There were lots of dragons in the North in those days, and gold was probably getting scarce up there, with the dwarves flying south or getting killed, and all the general waste and destruction that dragons make going from bad to worse.', -0.9559, 0.0, 0.322, 0.678)\n",
      "\n",
      "Most positive compound score was assigned to: \n",
      " ('Beorn was most jolly for a change; indeed he seemed to be in a splendidly good humour and set them all laughing with his funny stories; nor did they have to wonder long where he had been or why he was so nice to them, for he told them himself.', 0.9698, 0.353, 0.0, 0.647)\n"
     ]
    }
   ],
   "source": [
    "all_scores = []\n",
    "for el in compound_scores:\n",
    "    all_scores.append(el[1])\n",
    "\n",
    "for el in compound_scores:\n",
    "    if el[1] == max(all_scores):\n",
    "        print('\\nMost positive compound score was assigned to: \\n', el)\n",
    "    elif el[1] == min(all_scores):\n",
    "        print('\\nMost negative compound score assigned to: \\n', el)\n",
    "\n",
    "    "
   ]
  },
  {
   "cell_type": "code",
   "execution_count": 23,
   "metadata": {
    "collapsed": true
   },
   "outputs": [],
   "source": [
    "df = pd.DataFrame(compound_scores)"
   ]
  },
  {
   "cell_type": "code",
   "execution_count": 24,
   "metadata": {},
   "outputs": [
    {
     "data": {
      "text/html": [
       "<div>\n",
       "<style scoped>\n",
       "    .dataframe tbody tr th:only-of-type {\n",
       "        vertical-align: middle;\n",
       "    }\n",
       "\n",
       "    .dataframe tbody tr th {\n",
       "        vertical-align: top;\n",
       "    }\n",
       "\n",
       "    .dataframe thead th {\n",
       "        text-align: right;\n",
       "    }\n",
       "</style>\n",
       "<table border=\"1\" class=\"dataframe\">\n",
       "  <thead>\n",
       "    <tr style=\"text-align: right;\">\n",
       "      <th></th>\n",
       "      <th>0</th>\n",
       "      <th>1</th>\n",
       "      <th>2</th>\n",
       "      <th>3</th>\n",
       "      <th>4</th>\n",
       "    </tr>\n",
       "  </thead>\n",
       "  <tbody>\n",
       "    <tr>\n",
       "      <th>0</th>\n",
       "      <td>Chapter I AN UNEXPECTED PARTY In a hole in the...</td>\n",
       "      <td>0.5319</td>\n",
       "      <td>0.238</td>\n",
       "      <td>0.000</td>\n",
       "      <td>0.762</td>\n",
       "    </tr>\n",
       "    <tr>\n",
       "      <th>1</th>\n",
       "      <td>Not a nasty, dirty, wet hole, filled with the ...</td>\n",
       "      <td>0.7802</td>\n",
       "      <td>0.179</td>\n",
       "      <td>0.000</td>\n",
       "      <td>0.821</td>\n",
       "    </tr>\n",
       "    <tr>\n",
       "      <th>2</th>\n",
       "      <td>It had a perfectly round door like a porthole,...</td>\n",
       "      <td>0.7717</td>\n",
       "      <td>0.295</td>\n",
       "      <td>0.000</td>\n",
       "      <td>0.705</td>\n",
       "    </tr>\n",
       "    <tr>\n",
       "      <th>3</th>\n",
       "      <td>The door opened on to a tube-shaped hall like ...</td>\n",
       "      <td>0.8399</td>\n",
       "      <td>0.187</td>\n",
       "      <td>0.000</td>\n",
       "      <td>0.813</td>\n",
       "    </tr>\n",
       "    <tr>\n",
       "      <th>4</th>\n",
       "      <td>The tunnel wound on and on, going fairly but n...</td>\n",
       "      <td>-0.3235</td>\n",
       "      <td>0.000</td>\n",
       "      <td>0.048</td>\n",
       "      <td>0.952</td>\n",
       "    </tr>\n",
       "    <tr>\n",
       "      <th>5</th>\n",
       "      <td>No going upstairs for the hobbit: bedrooms, ba...</td>\n",
       "      <td>0.1280</td>\n",
       "      <td>0.071</td>\n",
       "      <td>0.058</td>\n",
       "      <td>0.871</td>\n",
       "    </tr>\n",
       "    <tr>\n",
       "      <th>6</th>\n",
       "      <td>The best rooms were all on the left-hand side ...</td>\n",
       "      <td>0.6369</td>\n",
       "      <td>0.110</td>\n",
       "      <td>0.000</td>\n",
       "      <td>0.890</td>\n",
       "    </tr>\n",
       "    <tr>\n",
       "      <th>7</th>\n",
       "      <td>This hobbit was a very well-to-do hobbit, and ...</td>\n",
       "      <td>0.0000</td>\n",
       "      <td>0.000</td>\n",
       "      <td>0.000</td>\n",
       "      <td>1.000</td>\n",
       "    </tr>\n",
       "    <tr>\n",
       "      <th>8</th>\n",
       "      <td>The Bagginses had lived in the neighbourhood o...</td>\n",
       "      <td>0.5262</td>\n",
       "      <td>0.111</td>\n",
       "      <td>0.041</td>\n",
       "      <td>0.848</td>\n",
       "    </tr>\n",
       "    <tr>\n",
       "      <th>9</th>\n",
       "      <td>This is a story of how a Baggins had an advent...</td>\n",
       "      <td>0.3182</td>\n",
       "      <td>0.119</td>\n",
       "      <td>0.000</td>\n",
       "      <td>0.881</td>\n",
       "    </tr>\n",
       "  </tbody>\n",
       "</table>\n",
       "</div>"
      ],
      "text/plain": [
       "                                                   0       1      2      3  \\\n",
       "0  Chapter I AN UNEXPECTED PARTY In a hole in the...  0.5319  0.238  0.000   \n",
       "1  Not a nasty, dirty, wet hole, filled with the ...  0.7802  0.179  0.000   \n",
       "2  It had a perfectly round door like a porthole,...  0.7717  0.295  0.000   \n",
       "3  The door opened on to a tube-shaped hall like ...  0.8399  0.187  0.000   \n",
       "4  The tunnel wound on and on, going fairly but n... -0.3235  0.000  0.048   \n",
       "5  No going upstairs for the hobbit: bedrooms, ba...  0.1280  0.071  0.058   \n",
       "6  The best rooms were all on the left-hand side ...  0.6369  0.110  0.000   \n",
       "7  This hobbit was a very well-to-do hobbit, and ...  0.0000  0.000  0.000   \n",
       "8  The Bagginses had lived in the neighbourhood o...  0.5262  0.111  0.041   \n",
       "9  This is a story of how a Baggins had an advent...  0.3182  0.119  0.000   \n",
       "\n",
       "       4  \n",
       "0  0.762  \n",
       "1  0.821  \n",
       "2  0.705  \n",
       "3  0.813  \n",
       "4  0.952  \n",
       "5  0.871  \n",
       "6  0.890  \n",
       "7  1.000  \n",
       "8  0.848  \n",
       "9  0.881  "
      ]
     },
     "execution_count": 24,
     "metadata": {},
     "output_type": "execute_result"
    }
   ],
   "source": [
    "df.head(10)"
   ]
  },
  {
   "cell_type": "code",
   "execution_count": 25,
   "metadata": {
    "collapsed": true
   },
   "outputs": [],
   "source": [
    "df['chapter'] = np.where(df[0].str.startswith('Chapter'),\n",
    "                         df[0].str.split(' ').str[:2], np.nan)"
   ]
  },
  {
   "cell_type": "code",
   "execution_count": 26,
   "metadata": {},
   "outputs": [
    {
     "data": {
      "text/html": [
       "<div>\n",
       "<style scoped>\n",
       "    .dataframe tbody tr th:only-of-type {\n",
       "        vertical-align: middle;\n",
       "    }\n",
       "\n",
       "    .dataframe tbody tr th {\n",
       "        vertical-align: top;\n",
       "    }\n",
       "\n",
       "    .dataframe thead th {\n",
       "        text-align: right;\n",
       "    }\n",
       "</style>\n",
       "<table border=\"1\" class=\"dataframe\">\n",
       "  <thead>\n",
       "    <tr style=\"text-align: right;\">\n",
       "      <th></th>\n",
       "      <th>0</th>\n",
       "      <th>1</th>\n",
       "      <th>2</th>\n",
       "      <th>3</th>\n",
       "      <th>4</th>\n",
       "      <th>chapter</th>\n",
       "    </tr>\n",
       "  </thead>\n",
       "  <tbody>\n",
       "    <tr>\n",
       "      <th>0</th>\n",
       "      <td>Chapter I AN UNEXPECTED PARTY In a hole in the...</td>\n",
       "      <td>0.5319</td>\n",
       "      <td>0.238</td>\n",
       "      <td>0.000</td>\n",
       "      <td>0.762</td>\n",
       "      <td>[Chapter, I]</td>\n",
       "    </tr>\n",
       "    <tr>\n",
       "      <th>1</th>\n",
       "      <td>Not a nasty, dirty, wet hole, filled with the ...</td>\n",
       "      <td>0.7802</td>\n",
       "      <td>0.179</td>\n",
       "      <td>0.000</td>\n",
       "      <td>0.821</td>\n",
       "      <td>[Chapter, I]</td>\n",
       "    </tr>\n",
       "    <tr>\n",
       "      <th>2</th>\n",
       "      <td>It had a perfectly round door like a porthole,...</td>\n",
       "      <td>0.7717</td>\n",
       "      <td>0.295</td>\n",
       "      <td>0.000</td>\n",
       "      <td>0.705</td>\n",
       "      <td>[Chapter, I]</td>\n",
       "    </tr>\n",
       "    <tr>\n",
       "      <th>3</th>\n",
       "      <td>The door opened on to a tube-shaped hall like ...</td>\n",
       "      <td>0.8399</td>\n",
       "      <td>0.187</td>\n",
       "      <td>0.000</td>\n",
       "      <td>0.813</td>\n",
       "      <td>[Chapter, I]</td>\n",
       "    </tr>\n",
       "    <tr>\n",
       "      <th>4</th>\n",
       "      <td>The tunnel wound on and on, going fairly but n...</td>\n",
       "      <td>-0.3235</td>\n",
       "      <td>0.000</td>\n",
       "      <td>0.048</td>\n",
       "      <td>0.952</td>\n",
       "      <td>[Chapter, I]</td>\n",
       "    </tr>\n",
       "  </tbody>\n",
       "</table>\n",
       "</div>"
      ],
      "text/plain": [
       "                                                   0       1      2      3  \\\n",
       "0  Chapter I AN UNEXPECTED PARTY In a hole in the...  0.5319  0.238  0.000   \n",
       "1  Not a nasty, dirty, wet hole, filled with the ...  0.7802  0.179  0.000   \n",
       "2  It had a perfectly round door like a porthole,...  0.7717  0.295  0.000   \n",
       "3  The door opened on to a tube-shaped hall like ...  0.8399  0.187  0.000   \n",
       "4  The tunnel wound on and on, going fairly but n... -0.3235  0.000  0.048   \n",
       "\n",
       "       4       chapter  \n",
       "0  0.762  [Chapter, I]  \n",
       "1  0.821  [Chapter, I]  \n",
       "2  0.705  [Chapter, I]  \n",
       "3  0.813  [Chapter, I]  \n",
       "4  0.952  [Chapter, I]  "
      ]
     },
     "execution_count": 26,
     "metadata": {},
     "output_type": "execute_result"
    }
   ],
   "source": [
    "df.fillna(method='ffill', inplace=True)\n",
    "df.dropna(inplace=True)\n",
    "df.head()"
   ]
  },
  {
   "cell_type": "code",
   "execution_count": 27,
   "metadata": {
    "collapsed": true
   },
   "outputs": [],
   "source": [
    "df.drop(df.loc[df[0].str.startswith('Chapter')].index, inplace=True)"
   ]
  },
  {
   "cell_type": "code",
   "execution_count": 28,
   "metadata": {
    "collapsed": true
   },
   "outputs": [],
   "source": [
    "df.columns = ['sentences', 'compound_score', 'pos_score', 'neg_score', 'neu_score', 'chapter']"
   ]
  },
  {
   "cell_type": "code",
   "execution_count": 29,
   "metadata": {
    "collapsed": true
   },
   "outputs": [],
   "source": [
    "df['chapter'] = df['chapter'].str[0] + ' ' + df['chapter'].str[1]"
   ]
  },
  {
   "cell_type": "code",
   "execution_count": 30,
   "metadata": {},
   "outputs": [
    {
     "data": {
      "text/html": [
       "<div>\n",
       "<style scoped>\n",
       "    .dataframe tbody tr th:only-of-type {\n",
       "        vertical-align: middle;\n",
       "    }\n",
       "\n",
       "    .dataframe tbody tr th {\n",
       "        vertical-align: top;\n",
       "    }\n",
       "\n",
       "    .dataframe thead th {\n",
       "        text-align: right;\n",
       "    }\n",
       "</style>\n",
       "<table border=\"1\" class=\"dataframe\">\n",
       "  <thead>\n",
       "    <tr style=\"text-align: right;\">\n",
       "      <th></th>\n",
       "      <th>sentences</th>\n",
       "      <th>compound_score</th>\n",
       "      <th>pos_score</th>\n",
       "      <th>neg_score</th>\n",
       "      <th>neu_score</th>\n",
       "      <th>chapter</th>\n",
       "    </tr>\n",
       "  </thead>\n",
       "  <tbody>\n",
       "    <tr>\n",
       "      <th>1</th>\n",
       "      <td>Not a nasty, dirty, wet hole, filled with the ...</td>\n",
       "      <td>0.7802</td>\n",
       "      <td>0.179</td>\n",
       "      <td>0.000</td>\n",
       "      <td>0.821</td>\n",
       "      <td>Chapter I</td>\n",
       "    </tr>\n",
       "    <tr>\n",
       "      <th>2</th>\n",
       "      <td>It had a perfectly round door like a porthole,...</td>\n",
       "      <td>0.7717</td>\n",
       "      <td>0.295</td>\n",
       "      <td>0.000</td>\n",
       "      <td>0.705</td>\n",
       "      <td>Chapter I</td>\n",
       "    </tr>\n",
       "    <tr>\n",
       "      <th>3</th>\n",
       "      <td>The door opened on to a tube-shaped hall like ...</td>\n",
       "      <td>0.8399</td>\n",
       "      <td>0.187</td>\n",
       "      <td>0.000</td>\n",
       "      <td>0.813</td>\n",
       "      <td>Chapter I</td>\n",
       "    </tr>\n",
       "    <tr>\n",
       "      <th>4</th>\n",
       "      <td>The tunnel wound on and on, going fairly but n...</td>\n",
       "      <td>-0.3235</td>\n",
       "      <td>0.000</td>\n",
       "      <td>0.048</td>\n",
       "      <td>0.952</td>\n",
       "      <td>Chapter I</td>\n",
       "    </tr>\n",
       "    <tr>\n",
       "      <th>5</th>\n",
       "      <td>No going upstairs for the hobbit: bedrooms, ba...</td>\n",
       "      <td>0.1280</td>\n",
       "      <td>0.071</td>\n",
       "      <td>0.058</td>\n",
       "      <td>0.871</td>\n",
       "      <td>Chapter I</td>\n",
       "    </tr>\n",
       "  </tbody>\n",
       "</table>\n",
       "</div>"
      ],
      "text/plain": [
       "                                           sentences  compound_score  \\\n",
       "1  Not a nasty, dirty, wet hole, filled with the ...          0.7802   \n",
       "2  It had a perfectly round door like a porthole,...          0.7717   \n",
       "3  The door opened on to a tube-shaped hall like ...          0.8399   \n",
       "4  The tunnel wound on and on, going fairly but n...         -0.3235   \n",
       "5  No going upstairs for the hobbit: bedrooms, ba...          0.1280   \n",
       "\n",
       "   pos_score  neg_score  neu_score    chapter  \n",
       "1      0.179      0.000      0.821  Chapter I  \n",
       "2      0.295      0.000      0.705  Chapter I  \n",
       "3      0.187      0.000      0.813  Chapter I  \n",
       "4      0.000      0.048      0.952  Chapter I  \n",
       "5      0.071      0.058      0.871  Chapter I  "
      ]
     },
     "execution_count": 30,
     "metadata": {},
     "output_type": "execute_result"
    }
   ],
   "source": [
    "df.head()"
   ]
  },
  {
   "cell_type": "code",
   "execution_count": 31,
   "metadata": {},
   "outputs": [
    {
     "data": {
      "image/png": "[encoded data removed]",
      "text/plain": [
       "<Figure size 1080x360 with 1 Axes>"
      ]
     },
     "metadata": {},
     "output_type": "display_data"
    }
   ],
   "source": [
    "fig, ax = plt.subplots(figsize=(15,5))\n",
    "ax.plot(df.groupby('chapter').mean()['compound_score'].index,\n",
    "        df.groupby('chapter').mean()['compound_score'].values, linewidth=3, color=\"#186A3B\")\n",
    "ax.set_xticklabels(df.groupby('chapter').mean()['compound_score'].index,\n",
    "                   rotation=30)\n",
    "ax.set_ylim(-0.2, 0.2)\n",
    "ax.axhline(y=0, linestyle=':', color='grey')\n",
    "ax.set_title('Mean compound sentiment score of each chapter - Hobbit', fontsize=16)\n",
    "ax.spines['top'].set_visible(False)\n",
    "ax.fill_between(x=ax.get_xticks(), y1=-0.05, y2=0.05, color='grey', alpha=0.1)\n",
    "ax.spines['right'].set_visible(False)\n",
    "ax.text(x=0, y=-0.03, s='neutral')\n",
    "ax.spines['bottom'].set_visible(False)\n",
    "ax.spines['left'].set_visible(False)\n",
    "ax.yaxis.grid(alpha=0.2);"
   ]
  },
  {
   "cell_type": "code",
   "execution_count": 32,
   "metadata": {
    "collapsed": true
   },
   "outputs": [],
   "source": [
    "# dropping the pos, neg, neu scores returned from Vader and assigning them based on compound score thresholds.\n",
    "df['pos_score'] = np.where(df['compound_score'] >= 0.05, 1, 0)\n",
    "df['neg_score'] = np.where(df['compound_score'] <= -0.05, 1, 0)\n",
    "df['neu_score'] = np.where((df['compound_score'] > -0.05) &\n",
    "                           (df['compound_score'] < 0.05), 1, 0)"
   ]
  },
  {
   "cell_type": "code",
   "execution_count": 33,
   "metadata": {},
   "outputs": [
    {
     "data": {
      "text/plain": [
       "1547"
      ]
     },
     "execution_count": 33,
     "metadata": {},
     "output_type": "execute_result"
    }
   ],
   "source": [
    "len(df[df['pos_score'] == 1])"
   ]
  },
  {
   "cell_type": "code",
   "execution_count": 34,
   "metadata": {},
   "outputs": [
    {
     "data": {
      "text/plain": [
       "1383"
      ]
     },
     "execution_count": 34,
     "metadata": {},
     "output_type": "execute_result"
    }
   ],
   "source": [
    "len(df[df['neg_score'] == 1])"
   ]
  },
  {
   "cell_type": "code",
   "execution_count": 35,
   "metadata": {},
   "outputs": [
    {
     "data": {
      "text/plain": [
       "1922"
      ]
     },
     "execution_count": 35,
     "metadata": {},
     "output_type": "execute_result"
    }
   ],
   "source": [
    "len(df[df['neu_score'] == 1])"
   ]
  },
  {
   "cell_type": "code",
   "execution_count": 124,
   "metadata": {},
   "outputs": [
    {
     "data": {
      "image/png": "[encoded data removed]",
      "text/plain": [
       "<Figure size 1080x360 with 1 Axes>"
      ]
     },
     "metadata": {},
     "output_type": "display_data"
    }
   ],
   "source": [
    "fig, ax = plt.subplots(figsize=(15,5))\n",
    "ax.bar(x=df.groupby('chapter').nunique()['sentences'].index, \n",
    "        height=df.groupby('chapter').nunique()['sentences'].values, alpha=0.7, color='#186A3B')\n",
    "ax.set_xticklabels(df['chapter'].unique(),\n",
    "                   rotation=30)\n",
    "ax.set_title('Sentence count per chapter - Hobbit', fontsize=16)\n",
    "ax.spines['top'].set_visible(False)\n",
    "ax.spines['right'].set_visible(False)\n",
    "ax.spines['bottom'].set_visible(False)\n",
    "ax.spines['left'].set_visible(False)\n",
    "ax.yaxis.grid(alpha=0.2);"
   ]
  },
  {
   "cell_type": "code",
   "execution_count": 37,
   "metadata": {},
   "outputs": [
    {
     "data": {
      "image/png": "[encoded data removed]",
      "text/plain": [
       "<Figure size 1080x360 with 1 Axes>"
      ]
     },
     "metadata": {},
     "output_type": "display_data"
    }
   ],
   "source": [
    "fig, ax = plt.subplots(figsize=(15,5))\n",
    "ax.bar(x=df[df['pos_score'] == 1].groupby('chapter').nunique()['sentences'].index, \n",
    "        height=df[df['pos_score'] == 1].groupby('chapter').nunique()['sentences'].values / df.groupby('chapter').nunique()['sentences'] * 100, alpha=0.8,\n",
    "      label='positive', color='#186A3B')\n",
    "\n",
    "ax.bar(x=df[df['neu_score'] == 1].groupby('chapter').nunique()['sentences'].index, \n",
    "        height=df[df['neu_score'] == 1].groupby('chapter').nunique()['sentences'].values / df.groupby('chapter').nunique()['sentences'] * 100, alpha=0.3,\n",
    "       bottom=df[df['pos_score'] == 1].groupby('chapter').nunique()['sentences'].values / df.groupby('chapter').nunique()['sentences'] * 100,\n",
    "       label='neutral', color='#FCF3CF')\n",
    "\n",
    "ax.bar(x=df[df['neg_score'] == 1].groupby('chapter').nunique()['sentences'].index, \n",
    "        height=df[df['neg_score'] == 1].groupby('chapter').nunique()['sentences'].values / df.groupby('chapter').nunique()['sentences'] * 100,\n",
    "       bottom=(df[df['neu_score'] == 1].groupby('chapter').nunique()['sentences'].values / df.groupby('chapter').nunique()['sentences'] * 100) +\n",
    "       (df[df['pos_score'] == 1].groupby('chapter').nunique()['sentences'].values / df.groupby('chapter').nunique()['sentences'] * 100),\n",
    "       label='negative', color='#D4AC0D')\n",
    "\n",
    "\n",
    "ax.legend(frameon=False, bbox_to_anchor=(1, 0.5))\n",
    "\n",
    "ax.set_xticklabels(df['chapter'].unique(),\n",
    "                   rotation=30)\n",
    "ax.set_title('Sentece sentiment by chapter - Hobbit', fontsize=16)\n",
    "ax.spines['top'].set_visible(False)\n",
    "ax.spines['right'].set_visible(False)\n",
    "ax.spines['bottom'].set_visible(False)\n",
    "ax.spines['left'].set_visible(False)\n",
    "ax.set_ylabel('[%]')\n",
    "ax.yaxis.grid(alpha=0.2);"
   ]
  },
  {
   "cell_type": "code",
   "execution_count": 38,
   "metadata": {
    "collapsed": true
   },
   "outputs": [],
   "source": [
    "df['sentences_length'] = df['sentences'].apply(lambda x: len(x.split(' ')))"
   ]
  },
  {
   "cell_type": "code",
   "execution_count": 39,
   "metadata": {},
   "outputs": [
    {
     "data": {
      "text/html": [
       "<div>\n",
       "<style scoped>\n",
       "    .dataframe tbody tr th:only-of-type {\n",
       "        vertical-align: middle;\n",
       "    }\n",
       "\n",
       "    .dataframe tbody tr th {\n",
       "        vertical-align: top;\n",
       "    }\n",
       "\n",
       "    .dataframe thead th {\n",
       "        text-align: right;\n",
       "    }\n",
       "</style>\n",
       "<table border=\"1\" class=\"dataframe\">\n",
       "  <thead>\n",
       "    <tr style=\"text-align: right;\">\n",
       "      <th></th>\n",
       "      <th>sentences</th>\n",
       "      <th>compound_score</th>\n",
       "      <th>pos_score</th>\n",
       "      <th>neg_score</th>\n",
       "      <th>neu_score</th>\n",
       "      <th>chapter</th>\n",
       "      <th>sentences_length</th>\n",
       "    </tr>\n",
       "  </thead>\n",
       "  <tbody>\n",
       "    <tr>\n",
       "      <th>1</th>\n",
       "      <td>Not a nasty, dirty, wet hole, filled with the ...</td>\n",
       "      <td>0.7802</td>\n",
       "      <td>1</td>\n",
       "      <td>0</td>\n",
       "      <td>0</td>\n",
       "      <td>Chapter I</td>\n",
       "      <td>42</td>\n",
       "    </tr>\n",
       "    <tr>\n",
       "      <th>2</th>\n",
       "      <td>It had a perfectly round door like a porthole,...</td>\n",
       "      <td>0.7717</td>\n",
       "      <td>1</td>\n",
       "      <td>0</td>\n",
       "      <td>0</td>\n",
       "      <td>Chapter I</td>\n",
       "      <td>21</td>\n",
       "    </tr>\n",
       "    <tr>\n",
       "      <th>3</th>\n",
       "      <td>The door opened on to a tube-shaped hall like ...</td>\n",
       "      <td>0.8399</td>\n",
       "      <td>1</td>\n",
       "      <td>0</td>\n",
       "      <td>0</td>\n",
       "      <td>Chapter I</td>\n",
       "      <td>46</td>\n",
       "    </tr>\n",
       "    <tr>\n",
       "      <th>4</th>\n",
       "      <td>The tunnel wound on and on, going fairly but n...</td>\n",
       "      <td>-0.3235</td>\n",
       "      <td>0</td>\n",
       "      <td>1</td>\n",
       "      <td>0</td>\n",
       "      <td>Chapter I</td>\n",
       "      <td>49</td>\n",
       "    </tr>\n",
       "    <tr>\n",
       "      <th>5</th>\n",
       "      <td>No going upstairs for the hobbit: bedrooms, ba...</td>\n",
       "      <td>0.1280</td>\n",
       "      <td>1</td>\n",
       "      <td>0</td>\n",
       "      <td>0</td>\n",
       "      <td>Chapter I</td>\n",
       "      <td>35</td>\n",
       "    </tr>\n",
       "  </tbody>\n",
       "</table>\n",
       "</div>"
      ],
      "text/plain": [
       "                                           sentences  compound_score  \\\n",
       "1  Not a nasty, dirty, wet hole, filled with the ...          0.7802   \n",
       "2  It had a perfectly round door like a porthole,...          0.7717   \n",
       "3  The door opened on to a tube-shaped hall like ...          0.8399   \n",
       "4  The tunnel wound on and on, going fairly but n...         -0.3235   \n",
       "5  No going upstairs for the hobbit: bedrooms, ba...          0.1280   \n",
       "\n",
       "   pos_score  neg_score  neu_score    chapter  sentences_length  \n",
       "1          1          0          0  Chapter I                42  \n",
       "2          1          0          0  Chapter I                21  \n",
       "3          1          0          0  Chapter I                46  \n",
       "4          0          1          0  Chapter I                49  \n",
       "5          1          0          0  Chapter I                35  "
      ]
     },
     "execution_count": 39,
     "metadata": {},
     "output_type": "execute_result"
    }
   ],
   "source": [
    "df.head()"
   ]
  },
  {
   "cell_type": "code",
   "execution_count": 40,
   "metadata": {},
   "outputs": [
    {
     "data": {
      "image/png": "[encoded data removed]",
      "text/plain": [
       "<Figure size 1080x360 with 1 Axes>"
      ]
     },
     "metadata": {},
     "output_type": "display_data"
    }
   ],
   "source": [
    "fig, ax = plt.subplots(figsize=(15,5))\n",
    "ax.bar(x=df.groupby('chapter').nunique()['sentences_length'].index, \n",
    "        height=df.groupby('chapter').nunique()['sentences_length'].values, alpha=0.7, color='#186A3B')\n",
    "ax.set_xticklabels(df['chapter'].unique(),\n",
    "                   rotation=30)\n",
    "ax.set_title('Avg. sentence length - Hobbit', fontsize=16)\n",
    "ax.spines['top'].set_visible(False)\n",
    "ax.spines['right'].set_visible(False)\n",
    "ax.spines['bottom'].set_visible(False)\n",
    "ax.spines['left'].set_visible(False)\n",
    "ax.yaxis.grid(alpha=0.2)\n",
    "ax.set_ylabel('words');"
   ]
  },
  {
   "cell_type": "markdown",
   "metadata": {},
   "source": [
    "## Text analysis"
   ]
  },
  {
   "cell_type": "code",
   "execution_count": 41,
   "metadata": {
    "collapsed": true
   },
   "outputs": [],
   "source": [
    "string.punctuation += '“”‘—'"
   ]
  },
  {
   "cell_type": "code",
   "execution_count": 42,
   "metadata": {},
   "outputs": [
    {
     "data": {
      "text/plain": [
       "'!\"#$%&\\'()*+,-./:;<=>?@[\\\\]^_`{|}~“”‘—'"
      ]
     },
     "execution_count": 42,
     "metadata": {},
     "output_type": "execute_result"
    }
   ],
   "source": [
    "string.punctuation"
   ]
  },
  {
   "cell_type": "code",
   "execution_count": 43,
   "metadata": {
    "collapsed": true
   },
   "outputs": [],
   "source": [
    "# clean senteces from punctuation\n",
    "translator = str.maketrans('', '', string.punctuation)\n",
    "\n",
    "df['cleaned_sentences'] = df['sentences'].apply(lambda x: x.translate(translator))\n",
    "df['cleaned_sentences'] = df['cleaned_sentences'].str.strip()"
   ]
  },
  {
   "cell_type": "code",
   "execution_count": 44,
   "metadata": {
    "collapsed": true
   },
   "outputs": [],
   "source": [
    "df['cleaned_sentences'] = df['cleaned_sentences'].str.replace('  ', ' ')"
   ]
  },
  {
   "cell_type": "code",
   "execution_count": 45,
   "metadata": {
    "collapsed": true
   },
   "outputs": [],
   "source": [
    "df['cleaned_sentences'] = df['cleaned_sentences'].str.replace('  ', ' ')"
   ]
  },
  {
   "cell_type": "code",
   "execution_count": 46,
   "metadata": {},
   "outputs": [
    {
     "data": {
      "text/plain": [
       "'They surprised us at night in a pass which we had to cross we were coming out of the Lands over West into these countries it is a long tale Then you had better come inside and tell me some of it if it won’t take all day said the man leading the way through a dark door that opened out of the courtyard into the house'"
      ]
     },
     "execution_count": 46,
     "metadata": {},
     "output_type": "execute_result"
    }
   ],
   "source": [
    "df['cleaned_sentences'].loc[1989]"
   ]
  },
  {
   "cell_type": "code",
   "execution_count": 47,
   "metadata": {
    "collapsed": true
   },
   "outputs": [],
   "source": [
    "df.reset_index(inplace=True)"
   ]
  },
  {
   "cell_type": "code",
   "execution_count": 48,
   "metadata": {
    "collapsed": true
   },
   "outputs": [],
   "source": [
    "for i in range(len(df)):\n",
    "    if df['cleaned_sentences'].loc[i] == '':\n",
    "        df['cleaned_sentences'].loc[i] = 'none'"
   ]
  },
  {
   "cell_type": "markdown",
   "metadata": {},
   "source": [
    "#### named entities"
   ]
  },
  {
   "cell_type": "code",
   "execution_count": 49,
   "metadata": {
    "collapsed": true
   },
   "outputs": [],
   "source": [
    "df['tagged_sent'] = df['cleaned_sentences'].str.split(' ').apply(lambda x: nltk.pos_tag(x))"
   ]
  },
  {
   "cell_type": "code",
   "execution_count": 50,
   "metadata": {
    "scrolled": true
   },
   "outputs": [
    {
     "data": {
      "text/plain": [
       "[('Then', 'RB'),\n",
       " ('the', 'DT'),\n",
       " ('rain', 'NN'),\n",
       " ('began', 'VBD'),\n",
       " ('to', 'TO'),\n",
       " ('pour', 'VB'),\n",
       " ('down', 'RP'),\n",
       " ('worse', 'JJR'),\n",
       " ('than', 'IN'),\n",
       " ('ever', 'RB'),\n",
       " ('and', 'CC'),\n",
       " ('Oin', 'NNP'),\n",
       " ('and', 'CC'),\n",
       " ('Gloin', 'NNP'),\n",
       " ('began', 'VBD'),\n",
       " ('to', 'TO'),\n",
       " ('fight', 'VB')]"
      ]
     },
     "execution_count": 50,
     "metadata": {},
     "output_type": "execute_result"
    }
   ],
   "source": [
    "df.loc[500]['tagged_sent']"
   ]
  },
  {
   "cell_type": "code",
   "execution_count": 51,
   "metadata": {},
   "outputs": [
    {
     "data": {
      "text/plain": [
       "[('Bilbo', 'NNP'),\n",
       " ('stood', 'VBD'),\n",
       " ('still', 'RB'),\n",
       " ('and', 'CC'),\n",
       " ('watched', 'VBD'),\n",
       " ('he', 'PRP'),\n",
       " ('loved', 'VBD'),\n",
       " ('smokerings', 'NNS'),\n",
       " ('and', 'CC'),\n",
       " ('then', 'RB'),\n",
       " ('he', 'PRP'),\n",
       " ('blushed', 'VBD'),\n",
       " ('to', 'TO'),\n",
       " ('think', 'VB'),\n",
       " ('how', 'WRB'),\n",
       " ('proud', 'JJ'),\n",
       " ('he', 'PRP'),\n",
       " ('had', 'VBD'),\n",
       " ('been', 'VBN'),\n",
       " ('yesterday', 'NN'),\n",
       " ('morning', 'NN'),\n",
       " ('of', 'IN'),\n",
       " ('the', 'DT'),\n",
       " ('smokerings', 'NNS'),\n",
       " ('he', 'PRP'),\n",
       " ('had', 'VBD'),\n",
       " ('sent', 'VBN'),\n",
       " ('up', 'RP'),\n",
       " ('the', 'DT'),\n",
       " ('wind', 'NN'),\n",
       " ('over', 'IN'),\n",
       " ('The', 'DT'),\n",
       " ('Hill', 'NNP')]"
      ]
     },
     "execution_count": 51,
     "metadata": {},
     "output_type": "execute_result"
    }
   ],
   "source": [
    "df.loc[205]['tagged_sent']"
   ]
  },
  {
   "cell_type": "code",
   "execution_count": 52,
   "metadata": {
    "collapsed": true
   },
   "outputs": [],
   "source": [
    "df['ne'] = df['tagged_sent'].apply(lambda x: nltk.ne_chunk(x, binary=True))"
   ]
  },
  {
   "cell_type": "code",
   "execution_count": 53,
   "metadata": {},
   "outputs": [
    {
     "data": {
      "image/png": "[encoded data removed]",
      "text/plain": [
       "Tree('S', [Tree('NE', [('Bilbo', 'NNP')]), ('stood', 'VBD'), ('still', 'RB'), ('and', 'CC'), ('watched', 'VBD'), ('he', 'PRP'), ('loved', 'VBD'), ('smokerings', 'NNS'), ('and', 'CC'), ('then', 'RB'), ('he', 'PRP'), ('blushed', 'VBD'), ('to', 'TO'), ('think', 'VB'), ('how', 'WRB'), ('proud', 'JJ'), ('he', 'PRP'), ('had', 'VBD'), ('been', 'VBN'), ('yesterday', 'NN'), ('morning', 'NN'), ('of', 'IN'), ('the', 'DT'), ('smokerings', 'NNS'), ('he', 'PRP'), ('had', 'VBD'), ('sent', 'VBN'), ('up', 'RP'), ('the', 'DT'), ('wind', 'NN'), ('over', 'IN'), ('The', 'DT'), Tree('NE', [('Hill', 'NNP')])])"
      ]
     },
     "execution_count": 53,
     "metadata": {},
     "output_type": "execute_result"
    }
   ],
   "source": [
    "df.loc[205]['ne']"
   ]
  },
  {
   "cell_type": "code",
   "execution_count": 54,
   "metadata": {},
   "outputs": [
    {
     "data": {
      "image/png": "[encoded data removed]",
      "text/plain": [
       "Tree('S', [('Then', 'RB'), ('the', 'DT'), ('rain', 'NN'), ('began', 'VBD'), ('to', 'TO'), ('pour', 'VB'), ('down', 'RP'), ('worse', 'JJR'), ('than', 'IN'), ('ever', 'RB'), ('and', 'CC'), Tree('NE', [('Oin', 'NNP')]), ('and', 'CC'), Tree('NE', [('Gloin', 'NNP')]), ('began', 'VBD'), ('to', 'TO'), ('fight', 'VB')])"
      ]
     },
     "execution_count": 54,
     "metadata": {},
     "output_type": "execute_result"
    }
   ],
   "source": [
    "df.loc[500]['ne']"
   ]
  },
  {
   "cell_type": "code",
   "execution_count": 55,
   "metadata": {},
   "outputs": [
    {
     "data": {
      "text/plain": [
       "<bound method Tree.subtrees of Tree('S', [Tree('NE', [('Bilbo', 'NNP')]), ('stood', 'VBD'), ('still', 'RB'), ('and', 'CC'), ('watched', 'VBD'), ('he', 'PRP'), ('loved', 'VBD'), ('smokerings', 'NNS'), ('and', 'CC'), ('then', 'RB'), ('he', 'PRP'), ('blushed', 'VBD'), ('to', 'TO'), ('think', 'VB'), ('how', 'WRB'), ('proud', 'JJ'), ('he', 'PRP'), ('had', 'VBD'), ('been', 'VBN'), ('yesterday', 'NN'), ('morning', 'NN'), ('of', 'IN'), ('the', 'DT'), ('smokerings', 'NNS'), ('he', 'PRP'), ('had', 'VBD'), ('sent', 'VBN'), ('up', 'RP'), ('the', 'DT'), ('wind', 'NN'), ('over', 'IN'), ('The', 'DT'), Tree('NE', [('Hill', 'NNP')])])>"
      ]
     },
     "execution_count": 55,
     "metadata": {},
     "output_type": "execute_result"
    }
   ],
   "source": [
    "df.loc[205]['ne'].subtrees"
   ]
  },
  {
   "cell_type": "code",
   "execution_count": 56,
   "metadata": {
    "collapsed": true
   },
   "outputs": [],
   "source": [
    "# change named entities to a list\n",
    "df['named_entities'] = ''\n",
    "\n",
    "for i in range(len(df)):\n",
    "    df['named_entities'].loc[i] = [\" \".join(w for w, t in elt) for elt in df.loc[i]['ne'] if isinstance(elt, nltk.Tree)]\n"
   ]
  },
  {
   "cell_type": "code",
   "execution_count": 57,
   "metadata": {},
   "outputs": [
    {
     "data": {
      "text/plain": [
       "['Bilbo', 'Hill']"
      ]
     },
     "execution_count": 57,
     "metadata": {},
     "output_type": "execute_result"
    }
   ],
   "source": [
    "df.loc[205]['named_entities']"
   ]
  },
  {
   "cell_type": "code",
   "execution_count": 58,
   "metadata": {
    "collapsed": true
   },
   "outputs": [],
   "source": [
    "# split two-word named entities\n",
    "df['named_entities'] = df['named_entities'].apply(lambda x: [el.split(' ') for el in x])"
   ]
  },
  {
   "cell_type": "code",
   "execution_count": 59,
   "metadata": {
    "collapsed": true
   },
   "outputs": [],
   "source": [
    "# flatten named entities list\n",
    "df['named_entities'] = df['named_entities'].apply(lambda x: [item for sublist in x for item in sublist])"
   ]
  },
  {
   "cell_type": "code",
   "execution_count": 60,
   "metadata": {},
   "outputs": [
    {
     "data": {
      "text/plain": [
       "['Bilbo', 'Hill']"
      ]
     },
     "execution_count": 60,
     "metadata": {},
     "output_type": "execute_result"
    }
   ],
   "source": [
    "df['named_entities'].loc[205]"
   ]
  },
  {
   "cell_type": "code",
   "execution_count": 62,
   "metadata": {
    "collapsed": true
   },
   "outputs": [],
   "source": [
    "wordnet_lemmatizer = WordNetLemmatizer()"
   ]
  },
  {
   "cell_type": "code",
   "execution_count": 63,
   "metadata": {},
   "outputs": [
    {
     "data": {
      "text/plain": [
       "True"
      ]
     },
     "execution_count": 63,
     "metadata": {},
     "output_type": "execute_result"
    }
   ],
   "source": [
    "wordnet_lemmatizer.lemmatize('bilbo', 'v') in words.words()"
   ]
  },
  {
   "cell_type": "code",
   "execution_count": 64,
   "metadata": {},
   "outputs": [
    {
     "data": {
      "text/plain": [
       "False"
      ]
     },
     "execution_count": 64,
     "metadata": {},
     "output_type": "execute_result"
    }
   ],
   "source": [
    "wordnet_lemmatizer.lemmatize('gandalf', 'v') in words.words()"
   ]
  },
  {
   "cell_type": "code",
   "execution_count": 65,
   "metadata": {
    "collapsed": true
   },
   "outputs": [],
   "source": [
    "# now I want to remove false entities that are common words but because of being capitalised were counted as named entities\n",
    "df['named_entities'] = df['named_entities'].apply(lambda x: [el for el in x if wordnet_lemmatizer.lemmatize(el.lower(), 'v') not in words.words()\n",
    "                                                            or el == 'Bilbo'])"
   ]
  },
  {
   "cell_type": "code",
   "execution_count": 66,
   "metadata": {},
   "outputs": [
    {
     "data": {
      "text/plain": [
       "['Bilbo']"
      ]
     },
     "execution_count": 66,
     "metadata": {},
     "output_type": "execute_result"
    }
   ],
   "source": [
    "df['named_entities'].loc[205]"
   ]
  },
  {
   "cell_type": "code",
   "execution_count": 67,
   "metadata": {
    "collapsed": true
   },
   "outputs": [],
   "source": [
    "unique_ne = []\n",
    "for i in range(len(df)):\n",
    "    unique_ne += [x for x in df['named_entities'].iloc[i]]"
   ]
  },
  {
   "cell_type": "code",
   "execution_count": 68,
   "metadata": {},
   "outputs": [
    {
     "data": {
      "text/plain": [
       "{'Arkenstone',\n",
       " 'Armies',\n",
       " 'Avery',\n",
       " 'BagEnd',\n",
       " 'Baggins',\n",
       " 'Bagginses',\n",
       " 'Balin',\n",
       " 'Balins',\n",
       " 'Barrelrider',\n",
       " 'Beorn',\n",
       " 'Bert',\n",
       " 'Berts',\n",
       " 'Bifur',\n",
       " 'Bilbo',\n",
       " 'Bilbos',\n",
       " 'Blimey',\n",
       " 'Bofur',\n",
       " 'Bolg',\n",
       " 'Bombur',\n",
       " 'Bomburand',\n",
       " 'Bullroarer',\n",
       " 'Bywater',\n",
       " 'Calamities',\n",
       " 'Carrock',\n",
       " 'Chestnuts',\n",
       " 'Co',\n",
       " 'Dori',\n",
       " 'Dorwinion',\n",
       " 'Dragonfire',\n",
       " 'Durin',\n",
       " 'Dwalin',\n",
       " 'Dwarfmail',\n",
       " 'Dwarves',\n",
       " 'Elrond',\n",
       " 'Elvenking',\n",
       " 'Elvenkings',\n",
       " 'Esgaroth',\n",
       " 'Fa1',\n",
       " 'Fili',\n",
       " 'Follovy',\n",
       " 'Galion',\n",
       " 'Gandalf',\n",
       " 'Gandalfs',\n",
       " 'Girion',\n",
       " 'Gloin',\n",
       " 'Goblincleaver',\n",
       " 'Goblins',\n",
       " 'Gollum',\n",
       " 'Gondolin',\n",
       " 'Goodbye',\n",
       " 'Greatest',\n",
       " 'Grubb',\n",
       " 'Halls',\n",
       " 'Hes',\n",
       " 'Hmmm',\n",
       " 'Hobbit',\n",
       " 'Hobbiton',\n",
       " 'Huggins',\n",
       " 'Hullo',\n",
       " 'Ive',\n",
       " 'Kili',\n",
       " 'Lakemen',\n",
       " 'Laketown',\n",
       " 'Lonelands',\n",
       " 'Longbeards',\n",
       " 'Luckwearer',\n",
       " 'Lumme',\n",
       " 'Marshes',\n",
       " 'Maytime',\n",
       " 'Mirkwood',\n",
       " 'Moria',\n",
       " 'Mountainpath',\n",
       " 'Mountains',\n",
       " 'Nolegs',\n",
       " 'Oakenshield',\n",
       " 'Oin',\n",
       " 'Orcrist',\n",
       " 'Ori',\n",
       " 'Others',\n",
       " 'Paths',\n",
       " 'Praps',\n",
       " 'Quicker',\n",
       " 'Ravenhill',\n",
       " 'Ringwinner',\n",
       " 'Rivendell',\n",
       " 'Roac',\n",
       " 'Roads',\n",
       " 'Sackville',\n",
       " 'Sawan',\n",
       " 'Seaelves',\n",
       " 'Sidedoor',\n",
       " 'Smaug',\n",
       " 'Sssss',\n",
       " 'Thorin',\n",
       " 'Thorins',\n",
       " 'Thror',\n",
       " 'Tom',\n",
       " 'Tookclan',\n",
       " 'Tookish',\n",
       " 'Tookishly',\n",
       " 'Tookishness',\n",
       " 'Tooks',\n",
       " 'Tralalalally',\n",
       " 'Treasurehunter',\n",
       " 'Twentysecond',\n",
       " 'Underhills',\n",
       " 'Warg',\n",
       " 'Wargs',\n",
       " 'Wheres',\n",
       " 'Wilderland',\n",
       " 'William',\n",
       " 'Williams',\n",
       " 'Wisps',\n",
       " 'Wolves',\n",
       " 'Woodelves',\n",
       " 'Yaharrihey',\n",
       " 'Youll',\n",
       " 'foRosmi'}"
      ]
     },
     "execution_count": 68,
     "metadata": {},
     "output_type": "execute_result"
    }
   ],
   "source": [
    "set(unique_ne)"
   ]
  },
  {
   "cell_type": "code",
   "execution_count": 69,
   "metadata": {},
   "outputs": [
    {
     "name": "stdout",
     "output_type": "stream",
     "text": [
      "592\n"
     ]
    }
   ],
   "source": [
    "ne_lengths = []\n",
    "for i in range(len(df)):\n",
    "    if len(df['named_entities'].loc[i]) == 10:\n",
    "        print(i)\n",
    "    ne_lengths.append(len(df['named_entities'].loc[i]))"
   ]
  },
  {
   "cell_type": "code",
   "execution_count": 70,
   "metadata": {},
   "outputs": [
    {
     "data": {
      "text/plain": [
       "15"
      ]
     },
     "execution_count": 70,
     "metadata": {},
     "output_type": "execute_result"
    }
   ],
   "source": [
    "max(ne_lengths)"
   ]
  },
  {
   "cell_type": "code",
   "execution_count": 71,
   "metadata": {},
   "outputs": [
    {
     "data": {
      "text/plain": [
       "'Soon Dwalin lay by Balin, and Fili and Kili together, and Dori and Nori and Ori all in a heap, and Oin and Gloin and Bifur and Bofur and Bombur piled uncomfortably near the fire.'"
      ]
     },
     "execution_count": 71,
     "metadata": {},
     "output_type": "execute_result"
    }
   ],
   "source": [
    "# What is the sentence with highest number of named enitites?\n",
    "df.loc[592]['sentences']"
   ]
  },
  {
   "cell_type": "code",
   "execution_count": 72,
   "metadata": {
    "collapsed": true
   },
   "outputs": [],
   "source": [
    "# getting a clean list of named entities\n",
    "ne_interactions = [x for x in df['named_entities'].values if len(x) > 1]"
   ]
  },
  {
   "cell_type": "code",
   "execution_count": 73,
   "metadata": {
    "collapsed": true
   },
   "outputs": [],
   "source": [
    "unique_named_entities = [item for sublist in ne_interactions for item in sublist]"
   ]
  },
  {
   "cell_type": "code",
   "execution_count": 74,
   "metadata": {
    "collapsed": true
   },
   "outputs": [],
   "source": [
    "unique_named_entities = list(set(unique_named_entities))"
   ]
  },
  {
   "cell_type": "code",
   "execution_count": 75,
   "metadata": {},
   "outputs": [
    {
     "data": {
      "text/plain": [
       "['Ringwinner',\n",
       " 'Bert',\n",
       " 'Beorn',\n",
       " 'Tookish',\n",
       " 'Bomburand',\n",
       " 'Luckwearer',\n",
       " 'Bombur',\n",
       " 'Marshes',\n",
       " 'Woodelves',\n",
       " 'Roac',\n",
       " 'Oakenshield',\n",
       " 'Williams',\n",
       " 'Rivendell',\n",
       " 'Calamities',\n",
       " 'Fa1',\n",
       " 'Bagginses',\n",
       " 'Others',\n",
       " 'Bofur',\n",
       " 'Thorins',\n",
       " 'Ive',\n",
       " 'Mountains',\n",
       " 'Thorin',\n",
       " 'Dwarves',\n",
       " 'Goodbye',\n",
       " 'Barrelrider',\n",
       " 'Grubb',\n",
       " 'Maytime',\n",
       " 'BagEnd',\n",
       " 'William',\n",
       " 'Wilderland',\n",
       " 'Carrock',\n",
       " 'Thror',\n",
       " 'Greatest',\n",
       " 'Mirkwood',\n",
       " 'Goblincleaver',\n",
       " 'Bilbos',\n",
       " 'Tooks',\n",
       " 'Kili',\n",
       " 'Blimey',\n",
       " 'Orcrist',\n",
       " 'Wolves',\n",
       " 'Hobbiton',\n",
       " 'Bilbo',\n",
       " 'Bullroarer',\n",
       " 'Gondolin',\n",
       " 'Laketown',\n",
       " 'Balin',\n",
       " 'Moria',\n",
       " 'Elrond',\n",
       " 'Arkenstone',\n",
       " 'Tom',\n",
       " 'Fili',\n",
       " 'Wargs',\n",
       " 'Durin',\n",
       " 'Sssss',\n",
       " 'Hullo',\n",
       " 'Bifur',\n",
       " 'Bolg',\n",
       " 'Dori',\n",
       " 'foRosmi',\n",
       " 'Lakemen',\n",
       " 'Dwalin',\n",
       " 'Longbeards',\n",
       " 'Twentysecond',\n",
       " 'Gollum',\n",
       " 'Ori',\n",
       " 'Tralalalally',\n",
       " 'Goblins',\n",
       " 'Gandalf',\n",
       " 'Warg',\n",
       " 'Gloin',\n",
       " 'Wheres',\n",
       " 'Huggins',\n",
       " 'Sackville',\n",
       " 'Baggins',\n",
       " 'Co',\n",
       " 'Oin',\n",
       " 'Esgaroth',\n",
       " 'Smaug']"
      ]
     },
     "execution_count": 75,
     "metadata": {},
     "output_type": "execute_result"
    }
   ],
   "source": [
    "unique_named_entities"
   ]
  },
  {
   "cell_type": "code",
   "execution_count": 76,
   "metadata": {
    "collapsed": true
   },
   "outputs": [],
   "source": [
    "unique_named_entities = [x for x in unique_named_entities if x not in ['Others', 'Goodbye', 'Wolves', 'foRosmi', 'Sssss', 'Fal', 'Roac', 'Mountains', 'Twentysecond', 'Co', 'Wheres',\n",
    "'Tralalalally', 'Others', 'Blimey', 'Maytime']]"
   ]
  },
  {
   "cell_type": "code",
   "execution_count": 77,
   "metadata": {
    "collapsed": true
   },
   "outputs": [],
   "source": [
    "for name in unique_named_entities:\n",
    "    df[name] = 0"
   ]
  },
  {
   "cell_type": "code",
   "execution_count": 78,
   "metadata": {
    "collapsed": true
   },
   "outputs": [],
   "source": [
    "# creating a column for each name from the cleaned list\n",
    "for i in range(len(df)):\n",
    "    for name in unique_named_entities:\n",
    "        if name in df.loc[i]['named_entities']:\n",
    "            df[name].iloc[i] = 1"
   ]
  },
  {
   "cell_type": "code",
   "execution_count": 79,
   "metadata": {},
   "outputs": [
    {
     "data": {
      "text/plain": [
       "435"
      ]
     },
     "execution_count": 79,
     "metadata": {},
     "output_type": "execute_result"
    }
   ],
   "source": [
    "df['Bilbo'].sum()"
   ]
  },
  {
   "cell_type": "code",
   "execution_count": 80,
   "metadata": {},
   "outputs": [
    {
     "data": {
      "text/plain": [
       "Index(['index', 'sentences', 'compound_score', 'pos_score', 'neg_score',\n",
       "       'neu_score', 'chapter', 'sentences_length', 'cleaned_sentences',\n",
       "       'tagged_sent', 'ne', 'named_entities', 'Ringwinner', 'Bert', 'Beorn',\n",
       "       'Tookish', 'Bomburand', 'Luckwearer', 'Bombur', 'Marshes', 'Woodelves',\n",
       "       'Oakenshield', 'Williams', 'Rivendell', 'Calamities', 'Fa1',\n",
       "       'Bagginses', 'Bofur', 'Thorins', 'Ive', 'Thorin', 'Dwarves',\n",
       "       'Barrelrider', 'Grubb', 'BagEnd', 'William', 'Wilderland', 'Carrock',\n",
       "       'Thror', 'Greatest', 'Mirkwood', 'Goblincleaver', 'Bilbos', 'Tooks',\n",
       "       'Kili', 'Orcrist', 'Hobbiton', 'Bilbo', 'Bullroarer', 'Gondolin',\n",
       "       'Laketown', 'Balin', 'Moria', 'Elrond', 'Arkenstone', 'Tom', 'Fili',\n",
       "       'Wargs', 'Durin', 'Hullo', 'Bifur', 'Bolg', 'Dori', 'Lakemen', 'Dwalin',\n",
       "       'Longbeards', 'Gollum', 'Ori', 'Goblins', 'Gandalf', 'Warg', 'Gloin',\n",
       "       'Huggins', 'Sackville', 'Baggins', 'Oin', 'Esgaroth', 'Smaug'],\n",
       "      dtype='object')"
      ]
     },
     "execution_count": 80,
     "metadata": {},
     "output_type": "execute_result"
    }
   ],
   "source": [
    "df.columns"
   ]
  },
  {
   "cell_type": "markdown",
   "metadata": {},
   "source": [
    "#### named entities - relations"
   ]
  },
  {
   "cell_type": "code",
   "execution_count": 114,
   "metadata": {
    "collapsed": true
   },
   "outputs": [],
   "source": [
    "grammar = \"NP: {<NNP>?<CC|TO>?<VBD>?<IN>?<NNP><CC|TO>?<VBD>?<IN>?<NNP><CC|TO>?<VBD>?<IN>?<NNP>?}\""
   ]
  },
  {
   "cell_type": "code",
   "execution_count": 115,
   "metadata": {
    "collapsed": true
   },
   "outputs": [],
   "source": [
    "cp = nltk.RegexpParser(grammar)"
   ]
  },
  {
   "cell_type": "code",
   "execution_count": 123,
   "metadata": {},
   "outputs": [
    {
     "data": {
      "text/plain": [
       "'Soon Dwalin lay by Balin, and Fili and Kili together, and Dori and Nori and Ori all in a heap, and Oin and Gloin and Bifur and Bofur and Bombur piled uncomfortably near the fire.'"
      ]
     },
     "execution_count": 123,
     "metadata": {},
     "output_type": "execute_result"
    }
   ],
   "source": [
    "df['sentences'].loc[592]"
   ]
  },
  {
   "cell_type": "code",
   "execution_count": 116,
   "metadata": {
    "collapsed": true
   },
   "outputs": [],
   "source": [
    "df['chunk'] = df['tagged_sent'].apply(lambda x: cp.parse(x))"
   ]
  },
  {
   "cell_type": "code",
   "execution_count": 117,
   "metadata": {},
   "outputs": [
    {
     "data": {
      "image/png": "[encoded data removed]",
      "text/plain": [
       "Tree('S', [('Soon', 'RB'), ('Dwalin', 'NNP'), ('lay', 'NN'), Tree('NP', [('by', 'IN'), ('Balin', 'NNP'), ('and', 'CC'), ('Fili', 'NNP'), ('and', 'CC'), ('Kili', 'NNP')]), ('together', 'RB'), Tree('NP', [('and', 'CC'), ('Dori', 'NNP'), ('and', 'CC'), ('Nori', 'NNP'), ('and', 'CC'), ('Ori', 'NNP')]), ('all', 'DT'), ('in', 'IN'), ('a', 'DT'), ('heap', 'NN'), Tree('NP', [('and', 'CC'), ('Oin', 'NNP'), ('and', 'CC'), ('Gloin', 'NNP'), ('and', 'CC'), ('Bifur', 'NNP')]), Tree('NP', [('and', 'CC'), ('Bofur', 'NNP'), ('and', 'CC'), ('Bombur', 'NNP'), ('piled', 'VBD')]), ('uncomfortably', 'RB'), ('near', 'IN'), ('the', 'DT'), ('fire', 'NN')])"
      ]
     },
     "execution_count": 117,
     "metadata": {},
     "output_type": "execute_result"
    }
   ],
   "source": [
    "df.loc[592]['chunk']"
   ]
  },
  {
   "cell_type": "code",
   "execution_count": 118,
   "metadata": {
    "collapsed": true
   },
   "outputs": [],
   "source": [
    "df['chunks'] = ''\n",
    "\n",
    "for i in range(len(df)):\n",
    "    df['chunks'].loc[i] = [\" \".join(w for w, t in elt) for elt in df.loc[i]['chunk'] if isinstance(elt, nltk.Tree)]\n"
   ]
  },
  {
   "cell_type": "code",
   "execution_count": 119,
   "metadata": {},
   "outputs": [
    {
     "data": {
      "text/plain": [
       "['by Balin and Fili and Kili',\n",
       " 'and Dori and Nori and Ori',\n",
       " 'and Oin and Gloin and Bifur',\n",
       " 'and Bofur and Bombur piled']"
      ]
     },
     "execution_count": 119,
     "metadata": {},
     "output_type": "execute_result"
    }
   ],
   "source": [
    "df['chunks'].loc[592]"
   ]
  },
  {
   "cell_type": "code",
   "execution_count": 120,
   "metadata": {
    "collapsed": true
   },
   "outputs": [],
   "source": [
    "ne_dict = {}\n",
    "for i in range(len(df)):\n",
    "    if len(df.loc[i]['chunks']) >= 1:\n",
    "        for element in df.loc[i]['chunks']:\n",
    "            names = element.split(' ')\n",
    "            new_names = []\n",
    "            for word in names:\n",
    "                if word in unique_named_entities:\n",
    "                    new_names.append(word)\n",
    "            names = tuple(set(new_names))\n",
    "            if len(names) > 1:\n",
    "                if names not in ne_dict.keys():\n",
    "                    ne_dict[names] = 1\n",
    "                else:\n",
    "                    ne_dict[names] += 1"
   ]
  },
  {
   "cell_type": "code",
   "execution_count": 121,
   "metadata": {},
   "outputs": [
    {
     "data": {
      "text/plain": [
       "{('Baggins', 'BagEnd'): 1,\n",
       " ('Baggins', 'Balin'): 1,\n",
       " ('Baggins', 'Bilbo'): 19,\n",
       " ('Baggins', 'Bilbo', 'BagEnd'): 1,\n",
       " ('Baggins', 'Durin'): 1,\n",
       " ('Baggins', 'Dwalin', 'Balin'): 1,\n",
       " ('Baggins', 'Thorin'): 2,\n",
       " ('Barrelrider', 'Bilbo'): 1,\n",
       " ('Beorn', 'Hullo'): 1,\n",
       " ('Bert', 'Tom'): 4,\n",
       " ('Bert', 'William'): 1,\n",
       " ('Bert', 'William', 'Ive'): 1,\n",
       " ('Bert', 'William', 'Tom'): 1,\n",
       " ('Bifur', 'Bofur'): 4,\n",
       " ('Bifur', 'Bombur', 'Bofur'): 3,\n",
       " ('Bifur', 'Bombur', 'Gloin', 'Bofur'): 1,\n",
       " ('Bifur', 'Dwalin', 'Bofur', 'Balin'): 1,\n",
       " ('Bifur', 'Gloin', 'Bofur'): 1,\n",
       " ('Bifur', 'Kili', 'Bofur'): 1,\n",
       " ('Bifur', 'Ori', 'Bofur'): 1,\n",
       " ('Bifur', 'Tom', 'Bombur'): 1,\n",
       " ('Bilbo', 'Arkenstone'): 1,\n",
       " ('Bilbo', 'Balin'): 3,\n",
       " ('Bilbo', 'Bombur'): 1,\n",
       " ('Bilbo', 'Carrock'): 1,\n",
       " ('Bilbo', 'Greatest', 'Calamities'): 1,\n",
       " ('Bilbo', 'Laketown'): 1,\n",
       " ('Bofur', 'Bilbo'): 1,\n",
       " ('Bofur', 'Bombur'): 3,\n",
       " ('Bombur', 'Dwalin'): 1,\n",
       " ('Bombur', 'Kili', 'Fili', 'Gloin'): 1,\n",
       " ('Bomburand', 'Kili', 'Fili'): 1,\n",
       " ('Dori', 'Bilbo'): 1,\n",
       " ('Dori', 'Dwalin', 'Balin'): 1,\n",
       " ('Dori', 'Ori'): 2,\n",
       " ('Dwalin', 'Balin'): 8,\n",
       " ('Dwarves', 'Bilbo'): 1,\n",
       " ('Esgaroth', 'Smaug'): 1,\n",
       " ('Fili', 'Balin'): 1,\n",
       " ('Fili', 'Bombur', 'Kili', 'Balin'): 1,\n",
       " ('Gandalf', 'Bilbo'): 6,\n",
       " ('Gandalf', 'Mirkwood'): 2,\n",
       " ('Gloin', 'Bifur', 'Oin'): 1,\n",
       " ('Gloin', 'Dori', 'Kili', 'Oin'): 1,\n",
       " ('Gloin', 'Oin'): 9,\n",
       " ('Goblincleaver', 'Orcrist'): 1,\n",
       " ('Gollum', 'Bilbo'): 2,\n",
       " ('Gollum', 'Gondolin'): 1,\n",
       " ('Kili', 'Fili'): 20,\n",
       " ('Kili', 'Fili', 'Balin'): 2,\n",
       " ('Kili', 'Fili', 'Bilbo'): 1,\n",
       " ('Oin', 'Dori', 'Ori'): 5,\n",
       " ('Oin', 'Ori'): 1,\n",
       " ('Ringwinner', 'Luckwearer'): 1,\n",
       " ('Sackville', 'Bagginses'): 1,\n",
       " ('Thorin', 'Arkenstone'): 1,\n",
       " ('Thorin', 'Balin'): 1,\n",
       " ('Thorin', 'Bifur', 'Bombur', 'Bofur'): 1,\n",
       " ('Thorin', 'Bilbo'): 2,\n",
       " ('Thorin', 'Dori'): 1,\n",
       " ('Thorin', 'Durin'): 1,\n",
       " ('Thorin', 'Esgaroth'): 1,\n",
       " ('Thorin', 'Gandalf'): 4,\n",
       " ('Thorin', 'Kili', 'Fili'): 3,\n",
       " ('Thorin', 'Moria'): 1,\n",
       " ('Thorin', 'Oakenshield'): 11,\n",
       " ('Thorin', 'Thror'): 1,\n",
       " ('Warg', 'Bilbo'): 1}"
      ]
     },
     "execution_count": 121,
     "metadata": {},
     "output_type": "execute_result"
    }
   ],
   "source": [
    "ne_dict"
   ]
  },
  {
   "cell_type": "code",
   "execution_count": 122,
   "metadata": {},
   "outputs": [
    {
     "name": "stdout",
     "output_type": "stream",
     "text": [
      "('Kili', 'Fili') 20\n",
      "('Baggins', 'Bilbo') 19\n",
      "('Thorin', 'Oakenshield') 11\n",
      "('Gloin', 'Oin') 9\n",
      "('Dwalin', 'Balin') 8\n",
      "('Gandalf', 'Bilbo') 6\n",
      "('Oin', 'Dori', 'Ori') 5\n",
      "('Bifur', 'Bofur') 4\n",
      "('Bert', 'Tom') 4\n",
      "('Thorin', 'Gandalf') 4\n",
      "('Bifur', 'Bombur', 'Bofur') 3\n",
      "('Bofur', 'Bombur') 3\n",
      "('Thorin', 'Kili', 'Fili') 3\n",
      "('Bilbo', 'Balin') 3\n",
      "('Dori', 'Ori') 2\n",
      "('Thorin', 'Bilbo') 2\n",
      "('Kili', 'Fili', 'Balin') 2\n",
      "('Gollum', 'Bilbo') 2\n",
      "('Gandalf', 'Mirkwood') 2\n",
      "('Baggins', 'Thorin') 2\n"
     ]
    }
   ],
   "source": [
    "for k, v in sorted(ne_dict.items(), key=itemgetter(1), reverse=True):\n",
    "    if v > 1:\n",
    "        print(k, v)"
   ]
  },
  {
   "cell_type": "markdown",
   "metadata": {
    "collapsed": true
   },
   "source": [
    "### visualise named entities"
   ]
  },
  {
   "cell_type": "code",
   "execution_count": 90,
   "metadata": {
    "collapsed": true
   },
   "outputs": [],
   "source": [
    "df_grouped = df.groupby('chapter', as_index=False).sum()"
   ]
  },
  {
   "cell_type": "code",
   "execution_count": 91,
   "metadata": {
    "collapsed": true
   },
   "outputs": [],
   "source": [
    "df_grouped.drop(['index', 'compound_score', 'sentences_length'], axis=1, inplace=True)"
   ]
  },
  {
   "cell_type": "code",
   "execution_count": 92,
   "metadata": {},
   "outputs": [
    {
     "data": {
      "text/plain": [
       "Index(['Ringwinner', 'Bomburand', 'Luckwearer', 'Marshes', 'Calamities', 'Fa1',\n",
       "       'Ive', 'Barrelrider', 'Grubb', 'Wilderland', 'Greatest',\n",
       "       'Goblincleaver', 'Tooks', 'Hobbiton', 'Bullroarer', 'Longbeards',\n",
       "       'Warg', 'Huggins'],\n",
       "      dtype='object')"
      ]
     },
     "execution_count": 92,
     "metadata": {},
     "output_type": "execute_result"
    }
   ],
   "source": [
    "df_grouped.loc[:,(df_grouped.sum() == 1)].columns"
   ]
  },
  {
   "cell_type": "code",
   "execution_count": 93,
   "metadata": {
    "collapsed": true
   },
   "outputs": [],
   "source": [
    "df_grouped.drop(df_grouped.loc[:,(df_grouped.sum() == 1)].columns, axis=1, inplace=True)"
   ]
  },
  {
   "cell_type": "code",
   "execution_count": 94,
   "metadata": {},
   "outputs": [
    {
     "data": {
      "text/plain": [
       "Index(['chapter', 'pos_score', 'neg_score', 'neu_score', 'Bert', 'Beorn',\n",
       "       'Tookish', 'Bombur', 'Woodelves', 'Oakenshield', 'Williams',\n",
       "       'Rivendell', 'Bagginses', 'Bofur', 'Thorins', 'Thorin', 'Dwarves',\n",
       "       'BagEnd', 'William', 'Carrock', 'Thror', 'Mirkwood', 'Bilbos', 'Kili',\n",
       "       'Orcrist', 'Bilbo', 'Gondolin', 'Laketown', 'Balin', 'Moria', 'Elrond',\n",
       "       'Arkenstone', 'Tom', 'Fili', 'Wargs', 'Durin', 'Hullo', 'Bifur', 'Bolg',\n",
       "       'Dori', 'Lakemen', 'Dwalin', 'Gollum', 'Ori', 'Goblins', 'Gandalf',\n",
       "       'Gloin', 'Sackville', 'Baggins', 'Oin', 'Esgaroth', 'Smaug'],\n",
       "      dtype='object')"
      ]
     },
     "execution_count": 94,
     "metadata": {},
     "output_type": "execute_result"
    }
   ],
   "source": [
    "df_grouped.columns"
   ]
  },
  {
   "cell_type": "code",
   "execution_count": 95,
   "metadata": {
    "collapsed": true
   },
   "outputs": [],
   "source": [
    "df_grouped['Bilbo'] = df_grouped['Bilbo'] + df_grouped['Bilbos']\n",
    "df_grouped['Thorin'] = df_grouped['Thorin'] + df_grouped['Thorins']\n",
    "df_grouped.drop(['Bilbos', 'Thorins', 'Baggins'], axis=1, inplace=True)"
   ]
  },
  {
   "cell_type": "code",
   "execution_count": 96,
   "metadata": {},
   "outputs": [
    {
     "data": {
      "image/png": "[encoded data removed]",
      "text/plain": [
       "<Figure size 1080x360 with 1 Axes>"
      ]
     },
     "metadata": {},
     "output_type": "display_data"
    }
   ],
   "source": [
    "fig, ax = plt.subplots(figsize=(15,5))\n",
    "for character in ['Bilbo', 'Thorin', 'Gandalf', 'Gollum', 'Smaug']:\n",
    "    df_plot = df_grouped[['chapter', character]]\n",
    "    ax.plot(df_grouped['chapter'], df_grouped[character], label=character)\n",
    "ax.legend(frameon=False)\n",
    "ax.set_title('Occurences of named entities in text - main characters in Hobbit', fontsize=16)\n",
    "ax.set_ylabel('count')\n",
    "ax.spines['top'].set_visible(False)\n",
    "ax.spines['right'].set_visible(False)\n",
    "ax.spines['bottom'].set_visible(False)\n",
    "ax.spines['left'].set_visible(False)\n",
    "ax.yaxis.grid(alpha=0.2)\n",
    "\n",
    "ax.set_xticklabels(df_grouped['chapter'], rotation=30);"
   ]
  },
  {
   "cell_type": "code",
   "execution_count": 97,
   "metadata": {},
   "outputs": [
    {
     "data": {
      "image/png": "[encoded data removed]",
      "text/plain": [
       "<Figure size 1080x360 with 1 Axes>"
      ]
     },
     "metadata": {},
     "output_type": "display_data"
    }
   ],
   "source": [
    "fig, ax = plt.subplots(figsize=(15,5))\n",
    "for character in ['Fili', 'Kili', 'Bifur', 'Bofur', 'Bombur', 'Balin', 'Dwalin', 'Oin', 'Gloin', 'Dori', 'Ori']:\n",
    "    df_plot = df_grouped[['chapter', character]]\n",
    "    ax.plot(df_grouped['chapter'], df_grouped[character], label=character)\n",
    "ax.legend(frameon=False)\n",
    "ax.set_title('Occurences of named entities in text - Dwarves in Hobbit', fontsize=16)\n",
    "ax.set_ylabel('count')\n",
    "ax.spines['top'].set_visible(False)\n",
    "ax.spines['right'].set_visible(False)\n",
    "ax.spines['bottom'].set_visible(False)\n",
    "ax.spines['left'].set_visible(False)\n",
    "ax.yaxis.grid(alpha=0.2)\n",
    "ax.set_xticklabels(df_grouped['chapter'], rotation=30);"
   ]
  },
  {
   "cell_type": "code",
   "execution_count": 98,
   "metadata": {},
   "outputs": [
    {
     "data": {
      "text/plain": [
       "Index(['chapter', 'pos_score', 'neg_score', 'neu_score', 'Bert', 'Beorn',\n",
       "       'Tookish', 'Bombur', 'Woodelves', 'Oakenshield', 'Williams',\n",
       "       'Rivendell', 'Bagginses', 'Bofur', 'Thorin', 'Dwarves', 'BagEnd',\n",
       "       'William', 'Carrock', 'Thror', 'Mirkwood', 'Kili', 'Orcrist', 'Bilbo',\n",
       "       'Gondolin', 'Laketown', 'Balin', 'Moria', 'Elrond', 'Arkenstone', 'Tom',\n",
       "       'Fili', 'Wargs', 'Durin', 'Hullo', 'Bifur', 'Bolg', 'Dori', 'Lakemen',\n",
       "       'Dwalin', 'Gollum', 'Ori', 'Goblins', 'Gandalf', 'Gloin', 'Sackville',\n",
       "       'Oin', 'Esgaroth', 'Smaug'],\n",
       "      dtype='object')"
      ]
     },
     "execution_count": 98,
     "metadata": {},
     "output_type": "execute_result"
    }
   ],
   "source": [
    "df_grouped.columns"
   ]
  },
  {
   "cell_type": "code",
   "execution_count": 99,
   "metadata": {
    "collapsed": true
   },
   "outputs": [],
   "source": [
    "top_bilbo_chars = df_grouped.iloc[:,4:].sum().sort_values(ascending=False)[0:15].index"
   ]
  },
  {
   "cell_type": "code",
   "execution_count": 100,
   "metadata": {},
   "outputs": [
    {
     "data": {
      "text/plain": [
       "Index(['Bilbo', 'Thorin', 'Gandalf', 'Gollum', 'Smaug', 'Balin', 'Bombur',\n",
       "       'Fili', 'Beorn', 'Kili', 'Mirkwood', 'Bert', 'Dori', 'Elrond',\n",
       "       'William'],\n",
       "      dtype='object')"
      ]
     },
     "execution_count": 100,
     "metadata": {},
     "output_type": "execute_result"
    }
   ],
   "source": [
    "top_bilbo_chars"
   ]
  },
  {
   "cell_type": "code",
   "execution_count": 101,
   "metadata": {
    "collapsed": true
   },
   "outputs": [],
   "source": [
    "colors = [\"#186A3B\", \"#1D8348\", \"#239B56\", \"#28B463\", \"#2ECC71\", \"#58D68D\",\n",
    "         \"#82E0AA\", \"#ABEBC6\", \"#D5F5E3\", \"#FCF3CF\", \"#F9E79F\", \"#F7DC6F\", \"#F4D03F\", \"#F1C40F\",\n",
    "         \"#D4AC0D\", \"#B7950B\", \"#9A7D0A\", \"#7D6608\"]"
   ]
  },
  {
   "cell_type": "code",
   "execution_count": 102,
   "metadata": {},
   "outputs": [
    {
     "data": {
      "image/png": "[encoded data removed]",
      "text/plain": [
       "<Figure size 864x360 with 1 Axes>"
      ]
     },
     "metadata": {},
     "output_type": "display_data"
    },
    {
     "data": {
      "image/png": "[encoded data removed]",
      "text/plain": [
       "<Figure size 259.2x14.4 with 1 Axes>"
      ]
     },
     "metadata": {},
     "output_type": "display_data"
    }
   ],
   "source": [
    "sums_by_chapter = {}\n",
    "fig, ax = plt.subplots(figsize=(12, 5))\n",
    "i = 0\n",
    "sums_by_chapter = {}\n",
    "for chap in df['chapter'].unique():\n",
    "    df_plot = df[df['chapter'] == chap]\n",
    "    for char in top_bilbo_chars:\n",
    "        df_plot2 = df_plot.groupby('chapter', as_index=False).sum()\n",
    "\n",
    "        value = df_plot2[char].values[0]\n",
    "\n",
    "        \n",
    "        \n",
    "        if char not in sums_by_chapter.keys():\n",
    "            sums_by_chapter[char] = 0\n",
    "        ax.barh(y=char, width=value, left=sums_by_chapter[char], color=colors[i])\n",
    "        \n",
    "        sums_by_chapter[char] = value + sums_by_chapter[char]\n",
    "        \n",
    "    i += 1\n",
    "ax.spines['top'].set_visible(False)\n",
    "ax.spines['right'].set_visible(False)\n",
    "ax.spines['bottom'].set_visible(False)\n",
    "ax.spines['left'].set_visible(False)\n",
    "ax.xaxis.grid(alpha=0.2)\n",
    "\n",
    "ax.set_title('Total character occurances by chapter', fontsize=16)\n",
    "\n",
    "sns.palplot(colors, size=0.2)\n",
    "ax.text(s='Chapters I to XVIII', x=-40, y=-5);"
   ]
  },
  {
   "cell_type": "code",
   "execution_count": 103,
   "metadata": {
    "collapsed": true
   },
   "outputs": [],
   "source": [
    "df['pos'] = np.where(df['pos_score'] > df['neg_score'], 1, 0)\n",
    "df['neg'] = np.where(df['pos_score'] < df['neg_score'], 1, 0)\n",
    "df['neu'] = np.where(df['pos_score'] == df['neg_score'], 1, 0)"
   ]
  },
  {
   "cell_type": "code",
   "execution_count": 104,
   "metadata": {},
   "outputs": [
    {
     "data": {
      "image/png": "[encoded data removed]",
      "text/plain": [
       "<Figure size 864x360 with 1 Axes>"
      ]
     },
     "metadata": {},
     "output_type": "display_data"
    }
   ],
   "source": [
    "fig, ax = plt.subplots(figsize=(12, 5))\n",
    "\n",
    "for char in top_bilbo_chars:\n",
    "    char_df = df[df[char] != 0].loc[:, ['pos', 'neg', 'neu']].sum() / len(df[df[char] != 0]) * 100\n",
    "    ax.barh(y=char, width=char_df.loc['pos'], color='#186A3B', label='positive')\n",
    "    ax.barh(y=char, width=char_df.loc['neu'], left=char_df.loc['pos'], color='#FCF3CF', alpha=0.3, label='neutral')\n",
    "    ax.barh(y=char, width=char_df.loc['neg'], left=char_df.loc['pos'] + char_df.loc['neu'], color='#D4AC0D', \n",
    "            label='negative')\n",
    "    \n",
    "ax.legend(['positive', 'neutral', 'negative'], frameon=False, bbox_to_anchor=(1.2,0.5))\n",
    "ax.spines['top'].set_visible(False)\n",
    "ax.spines['right'].set_visible(False)\n",
    "ax.spines['bottom'].set_visible(False)\n",
    "ax.spines['left'].set_visible(False)\n",
    "ax.set_xlabel('[%]')\n",
    "ax.set_title('Sentences with character mention divided by sentiment', fontsize=16);"
   ]
  }
 ],
 "metadata": {
  "kernelspec": {
   "display_name": "Python 3",
   "language": "python",
   "name": "python3"
  },
  "language_info": {
   "codemirror_mode": {
    "name": "ipython",
    "version": 3
   },
   "file_extension": ".py",
   "mimetype": "text/x-python",
   "name": "python",
   "nbconvert_exporter": "python",
   "pygments_lexer": "ipython3",
   "version": "3.6.3"
  }
 },
 "nbformat": 4,
 "nbformat_minor": 2
}
